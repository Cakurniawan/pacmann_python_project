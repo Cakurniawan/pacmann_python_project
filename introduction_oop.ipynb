{
 "cells": [
  {
   "cell_type": "markdown",
   "metadata": {},
   "source": [
    "# **Pertemuan 9 - Object Oriented Programming I**\n",
    "\n",
    "Python - Sekolah Data - Pacmann Academy"
   ]
  },
  {
   "cell_type": "markdown",
   "metadata": {},
   "source": [
    "## **Introduction to Object Oriented Programming (OOP)**"
   ]
  },
  {
   "cell_type": "markdown",
   "metadata": {},
   "source": [
    "- Pada umumnya pada bahasa pemrograman itu terdapat **paradigma**\n",
    "- Yang dimaksud dengan paradigma disini adalah cara berjalannya sebuah program dalam menjalankan sebuah proses\n",
    "- Pada umumnya, paradigma di Python itu terdapat dua jenis, yaitu:\n",
    "  - Functional Programming\n",
    "  - Object Oriented Programming (OOP)"
   ]
  },
  {
   "cell_type": "markdown",
   "metadata": {},
   "source": [
    "---\n",
    "## Functional Programming\n"
   ]
  },
  {
   "cell_type": "markdown",
   "metadata": {},
   "source": [
    "- Kita sudah belajar atau sudah menggunakan tentang **Functional Programming** di pertemuan sebelumnya\n",
    "- Yang dimana itu semua pengolahan datanya ada di dalam bentuk fungsi dan untuk memakai nya atau untuk menyelesaikan sebuah task dengan fungsi tersebut kita harus memanggil fungsi yang spesifik\n",
    "- Contoh:\n",
    "  - Fungsi untuk menghitung luas segitiga"
   ]
  },
  {
   "cell_type": "code",
   "execution_count": null,
   "metadata": {},
   "outputs": [],
   "source": [
    "def luas_segitiga(alas,tinggi):\n",
    "    return 0.5*alas*tinggi\n",
    "\n",
    "alas = 4\n",
    "tinggi = 3\n",
    "luas = luas_segitiga(alas,tinggi)\n",
    "print(f\"Luas segitiga nya adala {luas}\")"
   ]
  },
  {
   "cell_type": "markdown",
   "metadata": {},
   "source": [
    "- Tetapi functional programming itu memiliki kelemahan, yaitu hanya bisa melakukan satu proses saja.\n",
    "- Bayangkan kalau kita sudah membuat program yang sudah besar dan kompleks, semisal di dalamnya terdapat ratusan proses. Maka akan cukup repot jika kita menggunakan functional programming\n",
    "- Oleh karena itu kita bisa menggunakan **Object Oriented Programming (OOP)**"
   ]
  },
  {
   "cell_type": "markdown",
   "metadata": {},
   "source": [
    "---\n",
    "## Object Oriented Programming (OOP)\n",
    "\n",
    "![image.png](attachment:image.png)"
   ]
  },
  {
   "cell_type": "markdown",
   "metadata": {},
   "source": [
    "- Sebenarnya secara tidak langsung kita sudah menggunakan dan belajar beberapa konsep OOP di pertemuan sebelumnya!!\n",
    "- Sudah kita pelajari di:\n",
    "  - String, `.capitalize()`, `lower()`, dll\n",
    "  - List, `.append()`,` pop()`, dll\n",
    "  - dsb\n",
    "- Selain itu, tiap variabel yang kita buat adalah merupakan sebuah object, dan setiap object memiliki tipe\n",
    "- Kita sudah mengenal tipe-tipe data dalam python, beberapa diantaranya yaitu:\n",
    "  - integer (1234)\n",
    "  - float (3.14)\n",
    "  - string (\"Halo\")\n",
    "  - list ([1,2,3,4])\n",
    "  - dictionary ({\"warna\":\"kuning})  "
   ]
  },
  {
   "cell_type": "code",
   "execution_count": 1,
   "metadata": {},
   "outputs": [
    {
     "data": {
      "text/plain": [
       "int"
      ]
     },
     "execution_count": 1,
     "metadata": {},
     "output_type": "execute_result"
    }
   ],
   "source": [
    "num = 1\n",
    "type(num)"
   ]
  },
  {
   "cell_type": "markdown",
   "metadata": {},
   "source": [
    "- Tiap objek dalam python memiliki:\n",
    "  - Tipe \n",
    "  - Representasi data internal (Primitive atau Composite)\n",
    "  - Function yang berguna untuk berinteraksi dengan data internal "
   ]
  },
  {
   "cell_type": "markdown",
   "metadata": {},
   "source": [
    "---\n",
    "Dalam Python, kita dapat melakukan Object Oriented Programming (OOP) menggunakan prisip **class dan object (instance)**.\n",
    "\n",
    "- Class jika dianalogikan itu seperti blueprint. Class itu seperti kita mendeskripsikan sebuah benda atau objek. \n",
    "- Class juga memungkinkan kita untuk membuat tipe object baru, dimana kita bisa mengatur bagiamana data direpresentasikan dan membuat function yang bisa berinteraksi dengan data internal\n",
    "- Object (instance) merupakan objek yang dibuat berdasarkan class kita. Objek tersebut akan memiliki tipe sesuai nama class yang kita buat, dan memiliki attribut dan fungsi yang sama.\n",
    "- Object itu juga bisa dalam bentuk:\n",
    "  - Function\n",
    "  - Variable\n",
    "  - Class\n",
    "  - dll\n",
    "- Kita bisa merepresentasikan object itu sebagai **container atau wadah**. Contoh:\n",
    "  - Sebuah object (container) list itu mungkin bisa terdapat object data integer, float, string, dll\n",
    "  - Sebuah object (container) integer itu terdapat bilangan bulat\n",
    "  - dll"
   ]
  },
  {
   "cell_type": "markdown",
   "metadata": {},
   "source": [
    "---\n",
    "## Analogi di Dunia Nyata"
   ]
  },
  {
   "cell_type": "markdown",
   "metadata": {},
   "source": [
    "Mungkin penjelasan tadi sedikit membingungkan, maka disini akan diberikan analogi yang dimana harapannya akan mempermudah pemahaman kalian!\n",
    "\n",
    "Binatang peliharaan bisa kita ibaratkan sebagai objek dalam OOP. Binatang peliharaan memiliki beberapa attribut, diantaranya:\n",
    "- nama\n",
    "- jenis\n",
    "\n",
    "Selain itu, binatang peliharaan juga memiliki beberapa perilaku, seperti:\n",
    "- bermain\n",
    "- tidur\n",
    "\n",
    "Charlie merupakan anjing peliharaan, maka dari itu charlie adalah binatang peliharaan yang nilai attribut nama = \"charlie\", dan tipe = \"anjing\".\n",
    "Karena charlie adalah binatang peliharaan, maka charlie dapat diajak bermain dan pergi tidur.\n",
    "\n",
    "- Dari contoh diatas, kita dapat membuat class \"Pet\" dan object (instance) charlie.\n",
    "\n",
    "<img src=\"https://drive.google.com/uc?export=view&id=1mDhR_0eq9AGXAXKzuPMNpfDLrv17Mj1N\" alt=\"Drawing\" width= 600px;/>\n",
    "\n",
    "<small>[Source](https://drive.google.com/file/d/1mDhR_0eq9AGXAXKzuPMNpfDLrv17Mj1N/view?usp=sharing)</small>\n",
    "\n",
    "- Contoh binatang - binatang di atas tersebut akan dibungkus ke dalam satu paket atau class \"Pet\" "
   ]
  },
  {
   "cell_type": "markdown",
   "metadata": {},
   "source": [
    "---\n",
    "## Why use Object Oriented Programming?"
   ]
  },
  {
   "cell_type": "markdown",
   "metadata": {},
   "source": [
    "- Untuk operasi yang sederhana, mungkin membuat objek akan terlalu rumit.\n",
    "- Namun, untuk membuat program dengan kode yang cukup banyak, hal ini akan memudahkan.\n",
    "- Karena dengan menggunakan OOP akan memudahkan untuk reuse code yang telah dibuat.\n",
    "- Selain itu alasan kenapa harus menggunakan konsep OOP adalah:\n",
    "  - Maintainability\n",
    "  - Reusability\n",
    "  - Scalability\n",
    "  \n",
    "[source](https://stackoverflow.com/a/6480752)\n",
    "\n",
    "---\n",
    "Contoh: (menghitung keliling dan luas bentuk 2D)\n",
    "\n",
    "- Jika kita menggunakan konsep functional programming, maka kita harus membuat berbagai macam fungsi:\n",
    "  - keliling_segitiga\n",
    "  - luas_segitiga\n",
    "  - keliling_persegi\n",
    "  - luas_persegi\n",
    "  - dst\n",
    "  \n",
    "- Atau hanya membuat 2 fungsi yaitu `keliling` dan `luas`, namun di dalamnya terdapat banyak kondisional untuk menyesuaikan bentuk. Yang dimana sudah kita pelajari di pertemuan sebelumnya\n",
    "- Namun dengan OOP, kita dapat mengelompokkan hal tersebut kedalam objek atau class yang berupa:\n",
    "  - Segitiga\n",
    "  - Lingkaran\n",
    "  - dll\n",
    "- Selain itu di setiap objek yang sudah dibuat memiliki kemampuan untuk menghitung keliling dan luasnya."
   ]
  }
 ],
 "metadata": {
  "kernelspec": {
   "display_name": "base",
   "language": "python",
   "name": "python3"
  },
  "language_info": {
   "codemirror_mode": {
    "name": "ipython",
    "version": 3
   },
   "file_extension": ".py",
   "mimetype": "text/x-python",
   "name": "python",
   "nbconvert_exporter": "python",
   "pygments_lexer": "ipython3",
   "version": "3.7.13"
  },
  "orig_nbformat": 4
 },
 "nbformat": 4,
 "nbformat_minor": 2
}
