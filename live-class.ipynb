{
 "cells": [
  {
   "attachments": {},
   "cell_type": "markdown",
   "metadata": {},
   "source": [
    "# **Pertemuan #9 - Object Oriented Programming I - Live Class** \n",
    "\n",
    "Python Course - Sekolah Data - Pacmann Academy"
   ]
  },
  {
   "attachments": {},
   "cell_type": "markdown",
   "metadata": {},
   "source": [
    "Overview :\n",
    "1. Review\n",
    "2. Case 1 : Membuat Kelas Kendaraan\n",
    "3. Case 2 : Perhitungan Daftar Belanja\n",
    "4. Case 3 : Data Pekerja dan Pelanggan\n",
    "5. Case 4 : Transaksi ATM"
   ]
  },
  {
   "attachments": {},
   "cell_type": "markdown",
   "metadata": {},
   "source": [
    "# Review"
   ]
  },
  {
   "attachments": {},
   "cell_type": "markdown",
   "metadata": {},
   "source": [
    "---\n",
    "## Object Oriented Programming di Dunia Nyata"
   ]
  },
  {
   "attachments": {},
   "cell_type": "markdown",
   "metadata": {},
   "source": [
    "Mungkin penjelasan tadi sedikit membingungkan, maka disini akan diberikan analogi yang dimana harapannya akan mempermudah pemahaman kalian!\n",
    "\n",
    "Binatang peliharaan bisa kita ibaratkan sebagai objek dalam OOP. Binatang peliharaan memiliki beberapa attribut, diantaranya:\n",
    "- nama\n",
    "- jenis\n",
    "\n",
    "Selain itu, binatang peliharaan juga memiliki beberapa perilaku, seperti:\n",
    "- bermain\n",
    "- tidur\n",
    "\n",
    "Charlie merupakan anjing peliharaan, maka dari itu charlie adalah binatang peliharaan yang nilai attribut nama = \"charlie\", dan tipe = \"anjing\".\n",
    "Karena charlie adalah binatang peliharaan, maka charlie dapat diajak bermain dan pergi tidur.\n",
    "\n",
    "- Dari contoh diatas, kita dapat membuat class \"Pet\" dan object (instance) charlie.\n",
    "\n",
    "<img src=\"https://drive.google.com/uc?export=view&id=1mDhR_0eq9AGXAXKzuPMNpfDLrv17Mj1N\" alt=\"Drawing\" width= 600px;/>\n",
    "\n",
    "<small>[Source](https://drive.google.com/file/d/1mDhR_0eq9AGXAXKzuPMNpfDLrv17Mj1N/view?usp=sharing)</small>\n",
    "\n",
    "- Contoh binatang - binatang di atas tersebut akan dibungkus ke dalam satu paket atau class \"Pet\" "
   ]
  },
  {
   "attachments": {},
   "cell_type": "markdown",
   "metadata": {},
   "source": [
    "---\n",
    "## Why use Object Oriented Programming?"
   ]
  },
  {
   "attachments": {},
   "cell_type": "markdown",
   "metadata": {},
   "source": [
    "- Untuk operasi yang sederhana, mungkin membuat objek akan terlalu rumit.\n",
    "- Namun, untuk membuat program dengan kode yang cukup banyak, hal ini akan memudahkan.\n",
    "- Karena dengan menggunakan OOP akan memudahkan untuk reuse code yang telah dibuat.\n",
    "- Selain itu alasan kenapa harus menggunakan konsep OOP adalah:\n",
    "  - Maintainability\n",
    "  - Reusability\n",
    "  - Scalability\n",
    "  \n",
    "[source](https://stackoverflow.com/a/6480752)\n",
    "\n",
    "---\n",
    "Contoh: (menghitung keliling dan luas bentuk 2D)\n",
    "\n",
    "- Jika kita menggunakan konsep functional programming, maka kita harus membuat berbagai macam fungsi:\n",
    "  - keliling_segitiga\n",
    "  - luas_segitiga\n",
    "  - keliling_persegi\n",
    "  - luas_persegi\n",
    "  - dst\n",
    "  \n",
    "- Atau hanya membuat 2 fungsi yaitu `keliling` dan `luas`, namun di dalamnya terdapat banyak kondisional untuk menyesuaikan bentuk. Yang dimana sudah kita pelajari di pertemuan sebelumnya\n",
    "- Namun dengan OOP, kita dapat mengelompokkan hal tersebut kedalam objek atau class yang berupa:\n",
    "  - Segitiga\n",
    "  - Lingkaran\n",
    "  - dll\n",
    "- Selain itu di setiap objek yang sudah dibuat memiliki kemampuan untuk menghitung keliling dan luasnya."
   ]
  },
  {
   "attachments": {},
   "cell_type": "markdown",
   "metadata": {},
   "source": [
    "---\n",
    "## Class\n",
    "- class di dalam Python adalah pondasi utama dalam OOP.\n",
    "- Dapat dibilang class merupakan blueprint dari objek di dalam Python.\n",
    "- Bentuk paling sederhana untuk pendefinisian class adalah:\n",
    "```python\n",
    "class <nama_class>\n",
    "  <proses>\n",
    "```"
   ]
  },
  {
   "cell_type": "code",
   "execution_count": null,
   "metadata": {},
   "outputs": [],
   "source": [
    "class MyClass:\n",
    "    pass"
   ]
  },
  {
   "attachments": {},
   "cell_type": "markdown",
   "metadata": {},
   "source": [
    "- Pada kode diatas diberikan kelas kosong yang bernama MyClass\n",
    "- Perlu diperhatikan bahwa penamaan kelas memakai huruf kapital\n",
    "- Hal ini akan berguna untuk membedakan antara fungsi dan kelas."
   ]
  },
  {
   "attachments": {},
   "cell_type": "markdown",
   "metadata": {},
   "source": [
    "---\n",
    "## Attribute\n",
    "\n",
    "### Atribut Data \n",
    "\n",
    "- Anggaplah bahwa data itu adalah suatu objek lain yang digunakan untuk membangun suatu kelas\n",
    "- Contoh:\n",
    "  - Kucing memiliki atribut data berupa nama, ras, umur, dan jenis kelamin\n",
    "  - Mahasiswa memiliki atribut data berupa nama, NIM, jurusan, tahun_masuk\n",
    "  - dll\n",
    "  \n",
    "Untuk membuat sebuah Atribut kita membutuhkan beberapa syntax atau method"
   ]
  },
  {
   "attachments": {},
   "cell_type": "markdown",
   "metadata": {},
   "source": [
    "---\n",
    "#### \\_\\_init__\n",
    "\n",
    "Untuk melakukan pendefinisian sebuah atribut kita bisa menggunakan syntax `__init__()`\n",
    "\n",
    "```python\n",
    "def __init__(self, nama_atribut):\n",
    "    <atribut>\n",
    "```\n",
    "\n",
    "Contoh:"
   ]
  },
  {
   "cell_type": "code",
   "execution_count": 1,
   "metadata": {},
   "outputs": [],
   "source": [
    "class Segitiga:\n",
    "    def __init__(self,alas,tinggi,tipe):\n",
    "        self.alas = alas\n",
    "        self.tinggi = tinggi\n",
    "        self.tipe = tipe"
   ]
  },
  {
   "attachments": {},
   "cell_type": "markdown",
   "metadata": {},
   "source": [
    "Penjelasan:\n",
    "- `__init__` merupakan salah satu **method** pada `class`\n",
    "- `__init__` adalah **special method** yang disediakan oleh Python yang digunakan untuk menginisialisasi sebuah atribut data pada `class`\n",
    "- Perlu diperhatikan kalau di dalam `__init__` terdapat keyword `self`"
   ]
  },
  {
   "attachments": {},
   "cell_type": "markdown",
   "metadata": {},
   "source": [
    "---\n",
    "#### self "
   ]
  },
  {
   "cell_type": "code",
   "execution_count": 2,
   "metadata": {},
   "outputs": [],
   "source": [
    "class Segitiga:\n",
    "    def __init__(self,alas,tinggi,tipe):\n",
    "        self.alas = alas\n",
    "        self.tinggi = tinggi\n",
    "        self.tipe = tipe"
   ]
  },
  {
   "attachments": {},
   "cell_type": "markdown",
   "metadata": {},
   "source": [
    "- `self` merupakan parameter pada method yang mereferensi ke diri sendiri. \n",
    "- Yang berarti adalah `self` berguna untuk membedakan nilai suatu objek dengan objek lainnya di dalam kelas yang sama.\n",
    "\n",
    "Kenapa harus memakai `self`?\n",
    "* Aturan dari Python.\n",
    "* Jika tidak memakai `self` akan menjadi atribut kelas."
   ]
  },
  {
   "attachments": {},
   "cell_type": "markdown",
   "metadata": {},
   "source": [
    "---\n",
    "## Instance "
   ]
  },
  {
   "attachments": {},
   "cell_type": "markdown",
   "metadata": {},
   "source": [
    "- Instance adalah objek yang dimiliki oleh sebuah kelas yang telah dibuat\n",
    "- Untuk membuat sebuah instance dari `class` kita cukup memanggil method `__init__()` pada `class` yang sudah kita buat\n",
    "- `__init__()` akan menginisiasi objek kita sesuai dengan prosedur atau urutan yang kita buat di dalam method tersebut\n",
    "- Artinya adalah jika di dalam sebuah `class` memiliki instance variable dengan nama `luas` maka setiap instance dari kelas tersebut akan memiliki variable `luas`\n",
    "- Kita juga bisa memasukkan sebuah proses di dalam instance\n",
    "\n",
    "Contoh:\n",
    "![Pacman-Instance.jpg](data:image/jpeg;base64,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)"
   ]
  },
  {
   "attachments": {},
   "cell_type": "markdown",
   "metadata": {},
   "source": [
    "Di dalam python, setiap variabel yang didefinisikan di dalam fungsi pada sebuah kelas (lewat variabel self), maka ia dikatakan instance variable."
   ]
  },
  {
   "cell_type": "code",
   "execution_count": 3,
   "metadata": {},
   "outputs": [],
   "source": [
    "class MyClass:\n",
    "    def __init__(self, nama_barang):\n",
    "        self.nama_barang = nama_barang"
   ]
  },
  {
   "cell_type": "code",
   "execution_count": 4,
   "metadata": {},
   "outputs": [],
   "source": [
    "class Segitiga:\n",
    "    def __init__(self,alas,tinggi,tipe):\n",
    "        self.alas = alas\n",
    "        self.tinggi = tinggi\n",
    "        self.tipe = tipe\n",
    "        self.luas = 0.5 * alas * tinggi"
   ]
  },
  {
   "cell_type": "code",
   "execution_count": 5,
   "metadata": {},
   "outputs": [
    {
     "data": {
      "text/plain": [
       "__main__.Segitiga"
      ]
     },
     "execution_count": 5,
     "metadata": {},
     "output_type": "execute_result"
    }
   ],
   "source": [
    "instance_segitiga = Segitiga(6,6,\"siku\")\n",
    "type(instance_segitiga)"
   ]
  },
  {
   "cell_type": "code",
   "execution_count": 6,
   "metadata": {},
   "outputs": [
    {
     "data": {
      "text/plain": [
       "(6, 'siku')"
      ]
     },
     "execution_count": 6,
     "metadata": {},
     "output_type": "execute_result"
    }
   ],
   "source": [
    "instance_segitiga.alas, instance_segitiga.tipe"
   ]
  },
  {
   "cell_type": "code",
   "execution_count": 80,
   "metadata": {},
   "outputs": [],
   "source": [
    "class Data:\n",
    "\n",
    "    def __init__(self,data):\n",
    "        self.data = data\n",
    "\n",
    "\n",
    "    def calculate_min(self):\n",
    "        calculate_min = min(self.data)\n",
    "        return calculate_min\n",
    "\n",
    "    def calculate_max(self):\n",
    "        calculate_max = max(self.data)\n",
    "        return calculate_max\n",
    "\n",
    "    def calculate_total(self):\n",
    "        calculate_total = sum(self.data)\n",
    "        return calculate_total\n",
    "    \n",
    "    def calculate_mean(self):\n",
    "        calculate_mean = self.calculate_total() / len(self.data)\n",
    "        return round(calculate_mean)\n",
    "\n",
    "    def summarize(self):\n",
    "        print(f\"Data Summary\\n------------ \\nData  : {self.data}\\nMin.  : {self.calculate_min()}\\nMax.  : {self.calculate_max()}\\nTotal : {self.calculate_total()}\\nMean  : {self.calculate_mean()} \")\n",
    "        "
   ]
  },
  {
   "cell_type": "code",
   "execution_count": null,
   "metadata": {},
   "outputs": [],
   "source": []
  },
  {
   "cell_type": "code",
   "execution_count": 81,
   "metadata": {},
   "outputs": [
    {
     "name": "stdout",
     "output_type": "stream",
     "text": [
      "Data Summary\n",
      "------------ \n",
      "Data  : [2, 5, 9, 10, -3, 8]\n",
      "Min.  : -3\n",
      "Max.  : 10\n",
      "Total : 31\n",
      "Mean  : 5 \n"
     ]
    }
   ],
   "source": [
    "data_1 = Data(data = [2, 5, 9, 10, -3, 8])\n",
    "\n",
    "#data_1.calculate_mean()\n",
    "\n",
    "data_1.summarize()"
   ]
  },
  {
   "cell_type": "code",
   "execution_count": 53,
   "metadata": {},
   "outputs": [
    {
     "name": "stdout",
     "output_type": "stream",
     "text": [
      "Data  : [2, 5, 9, 10, -3, 8]\n",
      "Min   : -3\n",
      "Max   : 10\n",
      "Total : 31\n",
      "Mean  : 5\n",
      "\n"
     ]
    }
   ],
   "source": [
    "data_1 = Data(data = [2, 5, 9, 10, -3, 8])\n",
    "\n",
    "print('Data  :', data_1.data)\n",
    "print('Min   :', data_1.calculate_min())\n",
    "print('Max   :', data_1.calculate_max())\n",
    "print('Total :', data_1.calculate_total())\n",
    "print('Mean  :', data_1.calculate_mean())\n",
    "print('')\n",
    "\n",
    "data_1.summarize()"
   ]
  },
  {
   "cell_type": "code",
   "execution_count": 78,
   "metadata": {},
   "outputs": [
    {
     "name": "stdout",
     "output_type": "stream",
     "text": [
      "Data Summary\n",
      " ------------ \n",
      "Data  : [2, 5, 9, 10, -3, 8]\n",
      " Min.  : -3\n",
      " Max.  : 10\n",
      " Total : 31\n",
      " Mean  : 5 \n"
     ]
    }
   ],
   "source": [
    "data_1.summarize()"
   ]
  },
  {
   "attachments": {},
   "cell_type": "markdown",
   "metadata": {},
   "source": [
    "### Mentoring week 5 \n"
   ]
  },
  {
   "cell_type": "code",
   "execution_count": 84,
   "metadata": {},
   "outputs": [],
   "source": [
    "class UserData:\n",
    "\n",
    "    def __init__(self):\n",
    "        self.user_data = []\n",
    "\n",
    "    def summarize(self):\n",
    "        print(f\"Data Summary\\n------------\\nNumber of all user    : {self.user_data()}\\nNumebr of active user : {self.user_data()}\")"
   ]
  }
 ],
 "metadata": {
  "kernelspec": {
   "display_name": "Python 3",
   "language": "python",
   "name": "python3"
  },
  "language_info": {
   "codemirror_mode": {
    "name": "ipython",
    "version": 3
   },
   "file_extension": ".py",
   "mimetype": "text/x-python",
   "name": "python",
   "nbconvert_exporter": "python",
   "pygments_lexer": "ipython3",
   "version": "3.7.3"
  },
  "orig_nbformat": 4
 },
 "nbformat": 4,
 "nbformat_minor": 2
}
