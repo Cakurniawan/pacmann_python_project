{
 "cells": [
  {
   "cell_type": "markdown",
   "metadata": {},
   "source": [
    "# **Pertemuan 9 - Object Oriented Programming I**\n",
    "\n",
    "Python - Sekolah Data - Pacmann Academy"
   ]
  },
  {
   "cell_type": "markdown",
   "metadata": {},
   "source": [
    "---\n",
    "## Method"
   ]
  },
  {
   "cell_type": "markdown",
   "metadata": {},
   "source": [
    "- Method merupakan fungsi yang melekat pada sebuah objek atau instance kelas\n",
    "- Fungsi yang hanya dapat bekerja di dalam kelas\n",
    "- Melakukan manipulasi atau proses pada atribute data\n",
    "- Untuk cara pembuatannya masih sama ketika kita membuat fungsi di Python. Perbedaan nya hanya kita perlu menambahkan keyword `self`\n",
    "\n",
    "```python\n",
    "class <nama kelas>:\n",
    "    def <nama method>(<parameter method>):\n",
    "        <proses>\n",
    "```"
   ]
  },
  {
   "cell_type": "code",
   "execution_count": null,
   "metadata": {},
   "outputs": [],
   "source": [
    "class Lingkaran:\n",
    "    PHI = 3.14\n",
    "    def __init__(self, radius):\n",
    "        self.radius = radius\n",
    "        self.diameter = 2*radius\n",
    "\n",
    "    def keliling(self):\n",
    "        keliling = self.PHI * self.diameter\n",
    "        return keliling\n",
    "    \n",
    "    def luas(self):\n",
    "        luas = self.PHI * self.radius ** 2\n",
    "        return luas"
   ]
  },
  {
   "cell_type": "markdown",
   "metadata": {},
   "source": [
    "Pada contoh code diatas kita membuat `method` dengan nama `keliling` dan `luas`"
   ]
  },
  {
   "cell_type": "markdown",
   "metadata": {},
   "source": [
    "#### Cara menggunakan Method "
   ]
  },
  {
   "cell_type": "markdown",
   "metadata": {},
   "source": [
    "- Untuk cara menggunakan atau mengakses sebuah method sama seperti di instance/object ketika mengakses atribut\n",
    "- Yaitu kita menggunakan operator `.`"
   ]
  },
  {
   "cell_type": "markdown",
   "metadata": {},
   "source": [
    "Langkah awalnya kita perlu membuat object/instance terlebih dahulu terhadap kelas yang sudah kita buat"
   ]
  },
  {
   "cell_type": "code",
   "execution_count": null,
   "metadata": {},
   "outputs": [],
   "source": [
    "lingkaran_1 = Lingkaran(7)"
   ]
  },
  {
   "cell_type": "code",
   "execution_count": null,
   "metadata": {},
   "outputs": [],
   "source": [
    "# menggunakan method untuk mencari luas lingkaran\n",
    "print(f\"Luasnya adalah {lingkaran_1.luas()}\")"
   ]
  },
  {
   "cell_type": "code",
   "execution_count": null,
   "metadata": {},
   "outputs": [],
   "source": [
    "# menggunakan method untuk mencari keliling lingkaran\n",
    "print(f\"Kelilingnya adalah {lingkaran_1.keliling()}\")"
   ]
  },
  {
   "cell_type": "markdown",
   "metadata": {},
   "source": [
    "Selain itu kita juga bisa mengimplementasikan apa saja yang sudah kita pelajari dari materi - materi sebelumnya, seperti:\n",
    "- Composite Data Structure\n",
    "- Looping\n",
    "- Branching\n",
    "- dll"
   ]
  },
  {
   "cell_type": "code",
   "execution_count": null,
   "metadata": {},
   "outputs": [],
   "source": [
    "class List_Angka:\n",
    "    def __init__(self, number_list):\n",
    "        self.number_list = number_list\n",
    "        \n",
    "    def filter_even_number(self):\n",
    "        even = []\n",
    "        for num in self.number_list:\n",
    "            if num % 2 == 0:\n",
    "                even.append(num)                \n",
    "        return even"
   ]
  },
  {
   "cell_type": "code",
   "execution_count": null,
   "metadata": {},
   "outputs": [],
   "source": [
    "genap = List_Angka([1,2,3,4,5])"
   ]
  },
  {
   "cell_type": "code",
   "execution_count": null,
   "metadata": {},
   "outputs": [],
   "source": [
    "genap.filter_even_number()"
   ]
  },
  {
   "cell_type": "markdown",
   "metadata": {},
   "source": [
    "---\n",
    "**Mini exercise!**\n",
    "- Buatlah `class` Persegi Panjang yang memiliki attribute `panjang` dan `lebar`\n",
    "- Di dalam class tersebut buatlah dua method yang masing-masing bernama `luas` dan `keliling` untuk mengitung luas dan keliling segiempat dan me-`return` hasil dari perhitungannya.\n",
    "- Buatlah instance dari class yang sudah dibuat dengan `panjang = 4` dan `lebar = 3`\n",
    "- Print masing-masing nilai dari luas dan keliling!"
   ]
  },
  {
   "cell_type": "code",
   "execution_count": null,
   "metadata": {},
   "outputs": [],
   "source": [
    "# buatlah class persegi panjang sesuai dengan ketentuan soal\n",
    "# isi titik titik di bawah ini\n",
    "\n",
    "class Persegi_Panjang:\n",
    "    def __init__(self, panjang, lebar):\n",
    "        self.panjang = panjang\n",
    "        self.lebar = lebar\n",
    "        \n",
    "# buatlah dua method bernama luas dan keliling        \n",
    "# isi titik titik di bawah ini\n",
    "    def luas(self):\n",
    "        luas = self.panjang * self.lebar\n",
    "        return luas\n",
    "    \n",
    "    def keliling(self):\n",
    "        keliling = 2 * (self.panjang + self.lebar)\n",
    "        return keliling"
   ]
  },
  {
   "cell_type": "code",
   "execution_count": null,
   "metadata": {},
   "outputs": [],
   "source": [
    "instance_pp_1 = Persegi_Panjang(2, 3)\n",
    "\n",
    "print(instance_pp_1.luas())\n",
    "print(instance_pp_1.keliling())"
   ]
  },
  {
   "cell_type": "markdown",
   "metadata": {},
   "source": [
    "---\n",
    "## Special Method"
   ]
  },
  {
   "cell_type": "markdown",
   "metadata": {},
   "source": [
    "- Special methods biasanya digunakan untuk mempermudah integrasi antara class dengan fungsi dasar Python yang lain\n",
    "- Special Method selalu didahulu dan diikut oleh garis bawah ganda `(__)` (dunder)\n",
    "- Cara kerja dari Special Method ini itu tergantung dari Special Method yang kita pakai.\n",
    "- Untuk Special Method di Python itu ada banyak, jika tertarik bisa baca link berikut: https://docs.python.org/3/reference/datamodel.html#special-method-names"
   ]
  },
  {
   "cell_type": "markdown",
   "metadata": {},
   "source": [
    "Berikut merupakan **special method** yang sering digunakan sebagai operasi aritmatika.\n",
    "\n",
    "| Operator                        | Simbol | Contoh penulisan di Python | Keluaran|\n",
    "|---------------------------------|--------|--------|---------|\n",
    "| Pertambahan                     | +      |```__add__(self, other)```   | ```x + y invokes x.__add__(y)```       |\n",
    "| Pengurangan                     | -      |```__sub__(self, other)```   | ```x - y invokes x.__sub__(y)```       |\n",
    "| Perkalian                       | *      |```__mul__(self, other)```   | ```x * y invokes x.__mul__(y)```       |\n",
    "| Pembagian                       | /      |```__truediv__(self, other)```   | ```x / y invokes x.__truediv__(y)```       |\n",
    "| Pangkat                  | **     |```__pow__(self, other)```  | ```x ** y invokes x.__pow__(y)```       |\n",
    "| "
   ]
  },
  {
   "cell_type": "markdown",
   "metadata": {},
   "source": [
    "Berikut merupakan contoh penggunaan salah satu **special method** `__add__()`:"
   ]
  },
  {
   "cell_type": "code",
   "execution_count": null,
   "metadata": {},
   "outputs": [],
   "source": [
    "class Angka:\n",
    "    def __init__(self, angka):\n",
    "        self.angka = angka\n",
    "\n",
    "    def __add__(self, objek):\n",
    "        return self.angka + objek.angka"
   ]
  },
  {
   "cell_type": "markdown",
   "metadata": {},
   "source": [
    "- Melakukan operasi penjumlahan menggunakan `+`\n",
    "- Parameter input self dan other, other merupakan instace lain dari class yang sama\n",
    "- Mengembalikan instance baru hasil penjumlahan"
   ]
  },
  {
   "cell_type": "code",
   "execution_count": null,
   "metadata": {},
   "outputs": [],
   "source": [
    "angka_1 = Angka(10)\n",
    "angka_2 = Angka(20)\n",
    "\n",
    "print(angka_1 + angka_2)\n",
    "print(angka_1.__add__(angka_2))"
   ]
  },
  {
   "cell_type": "markdown",
   "metadata": {},
   "source": [
    "## Recap"
   ]
  },
  {
   "cell_type": "markdown",
   "metadata": {},
   "source": [
    "![Pacman-Object.jpg](data:image/jpeg;base64,/9j/4AAQSkZJRgABAQAAAQABAAD/4gIoSUNDX1BST0ZJTEUAAQEAAAIYAAAAAAQwAABtbnRyUkdCIFhZWiAAAAAAAAAAAAAAAABhY3NwAAAAAAAAAAAAAAAAAAAAAAAAAAAAAAAAAAAAAQAA9tYAAQAAAADTLQAAAAAAAAAAAAAAAAAAAAAAAAAAAAAAAAAAAAAAAAAAAAAAAAAAAAAAAAAAAAAAAAAAAAlkZXNjAAAA8AAAAHRyWFlaAAABZAAAABRnWFlaAAABeAAAABRiWFlaAAABjAAAABRyVFJDAAABoAAAAChnVFJDAAABoAAAAChiVFJDAAABoAAAACh3dHB0AAAByAAAABRjcHJ0AAAB3AAAADxtbHVjAAAAAAAAAAEAAAAMZW5VUwAAAFgAAAAcAHMAUgBHAEIAAAAAAAAAAAAAAAAAAAAAAAAAAAAAAAAAAAAAAAAAAAAAAAAAAAAAAAAAAAAAAAAAAAAAAAAAAAAAAAAAAAAAAAAAAAAAAAAAAAAAAAAAAFhZWiAAAAAAAABvogAAOPUAAAOQWFlaIAAAAAAAAGKZAAC3hQAAGNpYWVogAAAAAAAAJKAAAA+EAAC2z3BhcmEAAAAAAAQAAAACZmYAAPKnAAANWQAAE9AAAApbAAAAAAAAAABYWVogAAAAAAAA9tYAAQAAAADTLW1sdWMAAAAAAAAAAQAAAAxlblVTAAAAIAAAABwARwBvAG8AZwBsAGUAIABJAG4AYwAuACAAMgAwADEANv/bAEMAAwICAgICAwICAgMDAwMEBgQEBAQECAYGBQYJCAoKCQgJCQoMDwwKCw4LCQkNEQ0ODxAQERAKDBITEhATDxAQEP/bAEMBAwMDBAMECAQECBALCQsQEBAQEBAQEBAQEBAQEBAQEBAQEBAQEBAQEBAQEBAQEBAQEBAQEBAQEBAQEBAQEBAQEP/AABEIAN0BlAMBIgACEQEDEQH/xAAdAAEBAAIDAQEBAAAAAAAAAAAABwYIBAUJAwIB/8QAUxAAAAYBAwIBBQYTBQcCBwAAAAECAwQFBgcREgghExQiMUF3FRgjN1G2FhcZMjU4VlhhaHGBlpemtdPV5CRSYpGhCTNCcoKSlCU0Q0Zlc3SDpP/EABQBAQAAAAAAAAAAAAAAAAAAAAD/xAAUEQEAAAAAAAAAAAAAAAAAAAAA/9oADAMBAAIRAxEAPwD1TATLqV1MtNH9Dcu1BoWWXbaug8K1Lxbt+VurS0ya/wDCS3Emf4CGE1XRhpDa4pHez2HZZHm8mKTkvM5dk/7somLTup6NJSslRiJR+Y21xQkiIuOwDYMBq7mFJqDjcbp1x/VDIol/kVfnqY0i0j8v7YhMGaTTq90p+FNvhz2IiNXIyGcZNrLrUzPvncC6cJdxSY7IcjuzLjIEU8iw8NPJbkGOphzxm/Ulbi2iWZHt27gLUAhs7qeZt8a05n6YYNIyK81RhOz6WtsZ6KppllponHjkvqS4bZp5JTxQ24ozPsnYjMuRJ6ibnFNOMszTVTSK8xiyxKSzEcr25LcqNZuPGhLCoUxRNtutqW4lJqWTZoMj5EWwC1AJTg2qGrFlmUbEtStC38aYsoj0uDcVN0VzXp8M07synCZZOO6olbpLZaFbKIlmZd8zzPUjTvTiPFl6h57jmLsTnDZiuXNoxCQ+4RbmlBvKSSjIu+xbnsAyMBgcPXvQuw28g1pwSTv6PByOGvf/ACcHeQ9Q8AsNvIM4x+Tv6PBs2V7/AOSgGQAPjGmw5iecOWy+n5W3CUX+g+wAJF1T11fcaTxaW3gx51fZZthUGbEktJdZkxnsmrG3WXEKI0rbWhSkKSojJSVGRkZGY7HWbqI0w0AkYyeqtpKpq3KZrldGt1RVuQY0lKCUluQ4nc2uZcuJmRl5izUaSSZjqtf7ioyDSfHruhtYdlXTc7wN6NLhvpeZfbPKavZaFoM0qSfykewDme9O6WPvadKv0Nrv4Ie9O6WPvadKv0Nrv4IqoAJV707pY+9p0q/Q2u/gh707pY+9p0q/Q2u/giqgAlXvTulj72nSr9Da7+CHvTulj72nSr9Da7+CKqPnJW63HdcYa8VxCFKQjfbkoi7Fv+EBLvendLH3tOlX6G138EPendLH3tOlX6G138Ea36RWeP6/Q5Fjl3WHmuM6vKly2JGLQMnbqkUUlDq0ojIqVJJEhCCSndbqHefc+XftZZ2UZfUaW6ZL6gJWS0WXSMrrqqSeKTGG0TpnjLQ0cjis0+SPJSlbjSTMy5bbdtgGV+9O6WPvadKv0Nrv4Ie9O6WPvadKv0Nrv4I6fJ+q7Eccm3q4un2f39Bisp2FfZJT06H66ueaIjeSrk6l97w9/PNhpwk7GRnuRkM0oNY8PyPMrvCYBzESaSmg36pTraUxpcGWThtusqJRqURG0olckp2Pb077gOj96d0sfe06VfobXfwQ96d0sfe06VfobXfwR1WMdWml2X6HyNfKKNdv0DE9dWmIcdopz0kpJR0Nto8XgZrWpBo3WW6VEfb0Dm5T1HVNJklpiuL6Y5/nM+gJorosbrWHG65biCWlpxyQ+ylxzgZKNto3FERl27kA5HvTulj72nSr9Da7+CHvTulj72nSr9Da7+CMv031ExjVbC63PMPkvPVdmhSmyfZUy80tKjQ4042rzkLQtKkqSfoMjGTAJV707pY+9p0q/Q2u/gh707pY+9p0q/Q2u/giqgAlXvTulj72nSr9Da7+CHvTulj72nSr9Da7+CKqACBU+lmmOlvVDhjGmWnOL4i1bYDli56KKojwEy1M2OPk0bpMoT4hoJ13jy34+Ivbbke99EqyP7afTz2f5l+8ccFVAAAAAAAAAAAAAAAAAAAAAAAAAAAAAAAYHrtpijWTSLKdNfLvIn7uAtmLK4kfk8lJktlzYyP61xKD9B9iE1oupLOKHF42P51056nLz2FHKK7Bp6NU2tnSUJ4+IxZJPyVDKzIlEby21JI+6dy2GwwANZbTGtb7OBoXYaoRFWuTR88VbXSaqITkeojLiTPDaWtpJJ4NEtts3VbEpXr7kJs/it9k13nFVrppXq3nWdO3NinH4keZYM4kutUtRQeCm3m69KSbNHik+Ru8iV5qj2IbxgA0erNPJKumPRTE9ZenWblmMUtauHkUGFUyjv6Cc2RpZkxG2lokE1ulaVeCk3OKm1FuncdthOHapxtOdU4GMYPlOXafyygpxnEtUVOPzZ0cvsgy2iUsn2m1I2JlMlRGS07mW3p3LABprolgyKHWTF3+nnDtXsIwZlmZ9F9LlhTo9M2RtfANxI89SleP4pkfONu0SUmXL0Ee47rLT6DbeaQ4k/SlSSMv9R+wAdLMwnDLDfy/EaWTv6fGgNL3/wA0jpJmiGi9hv5fpDhUnf0+NQRF7/5tjNQATCT0t9M0tXOT076ZuL9SzxOByL8h+FuQ+PvVenNP/ttG8Yif/hwij7fk8PjsKqADTLqo/wBnzA1yiYzhOnUyswnHGprk/IJ7kmZNlr4J4sMx4q3PB2Pm4pSzUkyNKNu25H3DfS7p30q6CV2F6fTbya3M1FwKRMk2s9T6nXSymsLdDZbNNF3PshBGfbkajIjG2okHVVYR6jSaJby25LjEDN8JluoixXZL6kN5PWLUTbLSVOOrMknxbbSpaj2SlKlGRGFfASr3y2nX3Oaq/qnyr+XB75bTr7nNVf1T5V/LgFVASr3y2nX3Oaq/qnyr+XB75bTr7nNVf1T5V/LgFVHEtjs01UxVImOqxKO4cQpBGbRvcT4c9jI+PLbfYyPbcTX3y2nX3Oaq/qnyr+XB75bTr7nNVf1T5V/LgGu+TaodHGq2PR6nrN02x+i1PZjeRW9VYY1KRPOQktle50hDZvSGVGXJtTLit0mW/ccWvo8xxzp80bqsuTdttNauV50bF4ajsY9Mc104Lcnl5xOEzw7K84i4kfcjGyXvltOvuc1V/VPlX8uD3y2nX3Oaq/qnyr+XANXc6u8RwzLM/uMV1jznRDUxFrMkNYchw7isyd765mXFr32DJ85JEnl5MZGlRqI+5bjvuozINRcWpNOtT7WlfgZbqNijunNvFiMGaYtpYIacjKUW5mkm3ifL09uZ7jYT3y2nX3Oaq/qnyr+XB75bTr7nNVf1T5V/LgGujGFvY91Q1nTFWVD5YrIsKvUpxzh/ZyYgQijGz6eyjmMRXNtu/c/T6O2yrVeVcavZ3h+r2vmY6copLFMfGMQxeA01Mvq/wUKKS06qK9JlrcWpSeMZSOBpIjLfuLr75bTr7nNVf1T5V/Lg98tp19zmqv6p8q/lwDDOgx/xeneGwtiwjyImQXseRHsVKVLZdTZP8kPGozUbhblyMzPc++577jYgSr3y2nX3Oaq/qnyr+XB75bTr7nNVf1T5V/LgFVASr3y2nX3Oaq/qnyr+XB75bTr7nNVf1T5V/LgFVASr3y2nX3Oaq/qnyr+XB75bTr7nNVf1T5V/LgDI/tp9PPZ/mX7xxwVUQGo1Jx7UXqkwteP12UxCrsAy0nvd3FLSkNXiWOPcfCKfHZN7bw1cvD5cN08uPNO9+AAAAAAAAAAAAAAAAAAAAAAAAAAAAAAAAAAAAAAAAAAAAAAAAH8MyLuZkXqH9ETlYtTa1605PCz2sjXWK6dJgV9fTTGydhuW8iN5TJlPtK8x5SY0iI22SyMkc3jLuvcgtglXUt8XVR7QME+dVWMlwfRzSHTKVJnabaV4ficma2TMl6jo4sBb6CPckrUyhJqIj77H23GNdS3xdVHtAwT51VYCqgAAAAAAADX7PMwy3C+oKblSb6c5h1HjVWV9UqdM47MeTLloVYIQZklK2VNNGtRdzZ8T0mlIDYEBqnO12zfEtKMbm0WUwH7GVHubJ5czF7rK5kppiW6ltPgVxpVHZMjJJynXDQjZKSQrfdPb2Gu+tFkTt3isHDI9VGsscrlRLGLKcffO2YjGZk+28km/AXJJfdpfipLh8EfwgDZUBrbfa8akU+Ks18u9xiNlTF5bVMiTBwm7vSmIhKIvFYqIDq5DbZktBLcckmhozSW6zcSRV7SfLL3UDBscz2yKDGZvqOFNOEzGcStmStBqdPxFr7oPdJJQaCUnie6lb7JDNAGtbut6PfBeK3bZUqiYtyw11kqGyOiLdrc5ZzyZ8iJ8pppjd3eRd0bEfYdhjetOrK8grrjJ2cVXilva5HUMQINfJRYsqrVSFNPnIVIW24TiIq0qaJhJkpRGSzLzQGwgDUiZqXq+u1x/L8tt6lcPJMZhWkKqqHJ8NiKiRcV6UoeMpG77zbUjj46fDS5uojaSgzSrbcAAAAAAAEqyP7afTz2f5l+8ccFVGsnVBrljnTtrHgupuW45ktxUQ8Gy5mUihgJlPR0qsMd2dcJS0JQ0RpJJrNRESloL1jj9MvXnjHVhmsrH9MNKMvYpK1hT1je2yojDcRRkfhINpDqzWpZkZbINW3pPt3AbRgAAAAAAAAAAAAAAAAAAAAAAAAAAAAAAAAAAAAAAAAAAAAAAJTo1v9MTXUjUZ7agRNt/UX0LUR7f6irCVaN/GLrt7QIfzVoQFVEq6lvi6qPaBgnzqqxVRKupb4uqj2gYJ86qsBVQAAAAAAHUKxLHXLuwyJ2sQ5PtIDVZMccUpSXoranFIbNBnw2I3nO+258tjMyItu3ABMj6bdGU01Fj0bE34dZjkN6tgQ4VvNjNHCdVycivpaeSUlgz7+C9zb/wjvImkOnkGAqsjUCkxlSq6YpCpkhRm9BS0mKrkazPzCYaLbfZXHzuW575iADAbzQrTHIZDEufSz2pDFhKsyeg3U6E4t6SaTkIcUw8g3GXDQjmwszZVxLdB7EMhxXCscwqBEqcYiSIUCBBZrYsTy19xhiO1y4JQ2tZpSZcjI1EXIyJJGZklJF3oAMTXpZga8Ie05Oi2x99xbzkYpTxLN1b5vqc8Yl+KS/FM18yXyJXcjH1gaa4TW+5nkdLw9xp0yzhcpLq/Dky/F8oWfJR8ufju9lbkXLsRbFtk4AJnU9N+jlI487AxeWZu8UpKRdT5CY7SZDchDDCXHlFHYQ8y2pDDRJaRsokpIlKI6YAAAAAAAAAkeYwYVn1NYJW2UNiXEl6dZqxIjvtk4262qwxwlIWk9yUkyMyMj7GRjCdMOgvRDTKRlsaJTMy6m8uvdqkbQ25EsceUtlCHmY1iy4mQTZqQSk8VINJbEZrMuR57kf20+nns/zL9444KqAkhaea1YRuvTnVtORwU/W02dR/KTSn+41YxiQ+j/mfRKV3P8G39+nzNxT4LWXS/I8OSn6+1iNHdU3/ADHKipNxlH+KSywXo+UhWgAdTi+W4rm9MzkWGZLVX1VJLdmdWTG5UdzsR+a42ZpP0l6/WO2E6yfQDS/JLh7KI9G9juSPd132OS3KqwcP1eK7HNPjl3PzXiWjue6T3HUnR9ReC+dj2W0WpVa2faFkbRVNqSC+SdEbVHdVt6Eqit7mXdwt9yCtgJQz1G4hTOog6sUd9ppMUomyXksZKK5azPbzLJlTkM9z22JTyVmRlugj3IqhCmw7GI1Pr5bMqNIQTjTzLhLbcSfoUlRdjI/lIB9wAAAAAAAAAAAAAAAAAAAAAAAAAAAAAAAAAAAAEq0b+MXXb2gQ/mrQiqiVaN/GLrt7QIfzVoQFVEq6lvi6qPaBgnzqqxVRKupb4uqj2gYJ86qsBVQAAAAAAHUM5hiUisk3UfKah2vhyVwpMtE5pTLMhDnhqaWslcUrJwyQaTPcldtt+w7caQ2sSbp9pld5HWwpT+P5zmUuDbtR21OFDtE5CpMeYaSPzUOoSTLiiLYlIYM9i5GA3Aus+wTG6Ofk2RZrQ1dPVvnGnWE2yZYjRXiUSTbddWokIUSjIjSoyPcyIczHckx3L6WLkmJ39ddVM5HiRZ9dKbkxn0b7ckONmaVFuRluRn6BrRkCcdi007IrzN/oJk0Opl3YVmTzYrMiorZXFxsisUuqQkmHEOON7ktpXJSSS62pSTPN9ArvG76PZ3Um5oZMiwyl92FeY7LlQqnKpJwkeJJixlyXUuJJBOIUhLjzZrjrdI+RGaQqeU5/gmDLrm82zWhx9VxJKFXJtbJmIcyQe2zTPiKT4iz3LzU7n3LsPrIzbDIeUxcGl5dSsZJOjqlxadye0mc+wnfk6hg1eIpBbHuokmRbGNcupqwcxrO7e9tdQmcYal4e3Dx+I/XQZaMknk++blPwltOm8T3OOSo8ckPuEaTSsiQY66+n+Lk9rh05uNB1AvM+xe+qqlBkiV7nMswfGeaTvyUwyluY2txJcE+ck+6tjDZWl1I07yTJLPDcdz3HLTIKX7J1UK0YfmQu+3wzKFGtvuZF5xF3HLscyxCnrba5t8qp4NfQGZW0uTOaaZrzJCVn461KJLWyFoV55l2UR+gyEIwbUvR7WPWWBBw7O8NhRsHK1r62kr7qMi3sZK/gpbvkjS/FYit8FGnciW4v4QyQlCFOdO5hOGUeAavYiWZOYDj0bOILsi7NryxURKY9c84885I5p3WojNciTzQRqUt3kXLcNi8TzrCM9o/onwbMqPIqY1rb90amxZlxuSPr0+K0pSN0+st+3rHZVlnW3VfGt6awjT4MxpL0eVGeS6082ot0rQtJmSkmXcjI9jGsczMdTMx0qsKylh3+q2LPXsmD9E1G/TxpVtSNx0uGszcdiRXELeUqMp2OREptCzSnc9xTulGZIm9OGnTsill1ak49DbKPJUya+KWySlZeCtaeKiIlEXLfYy3JJ7kQVgAAAAAASrI/tp9PPZ/mX7xxwVUa19S0HWmw1dxCLoBeY/U5mrT7MThybuMp6OSfdHHORJIuyXD7cVLStBetPfctW+imP1hs9Rmoj2tiE2WqFXTtNRI2aW0piKVU8+RyF1xxm3WPCN5mOSlNp4kexJ3M1kQenACVfRV1NRP/AHmi2AS0l/xV+fyTUf8A0PVTZF+Tmf5Q+mfrLE+yHTPfSNvT7lZJUPf5eUPsf67AKqAlX08cjj/Zfpx1Vgben+zVUzb/AMSe7v8AmD3xuJx/stgWqlf8vLTy5lEX5TjRnS/PvsAqTzLUhpceQ0h1pxJoWhaSUlSTLYyMj9JGXqEtm9OGBQ5jtxptLuNNrR1RuKfxKUUOM44Z7mt2ApK4L6jPuanGFK7n37nu99Doo19kMlsqv5fdXHbOBt+XyiOjb84+kfql6apLpRy190+ZfV6GJGRxGHT/AOhxwlf6AON5Z1IYL2m1OO6oVjf/AMWuWVHckn/7LylRH1fh8aMn0eaM9w3K0ZlSpuCx68pHCcWy7BuYKoslpafSRluaVp79loUpB+pR9xxKrVLTG929xNRsXsOXo8lt47u//asxkrTrTzaXWXEuIUW6VJPcjL8BkA/YieM9TVdkfUJb6Hlij0aDCTIj1+QnL5NWFjGbZclxEtcC4qbRIQfLmrlxcLYuJigas6gVulWmmTajWx7xserH5xpItzcUhJ8EEXrNSuKSL5THn9NyzPcI0CwjI19NerULM8DyH6Pra/lVUL3PecfcW5abqRMU+ba2HnUp3bM9ko3SW2xBv/kuo1fjWdYhgT9fIemZeqaTDyDSTTCYzPirNe/czPdJERF6zMzLbY8tUZkRmRbnt2L5Rqzq3gukWrfUBoNm1liFJftXcOzlMzJMVDqnWW4qH4x8j/uLXzT8hnuP3oVpJhWTaoat6hZVVJuLal1Gm+4jktalpqjTGYNSo6N+KFLUozUoi5K7EZmRERBT2tYspr7vTvGcz019wrbO5tpEei+7Lcr3OTEaW6hfNtHF7xEISexGnjz77mWwqo8+MEw2rz7DemfF7ywmRq6Xk+XeVNxZS46pbSfKzOOpaDJRIXtsokmRmncvQZiwQMWotEuoOw0v0xrl1WI5Vp9Y3k2ljvK8hgTozyGkPstGZkybqHlJUSCJKjaI9t+4DacYi1qPXPasP6TN18ny6LQIv3ZRmkmvCXINlDaS33NW6Vme+xEW22+57atMPNNf7K3HFOOJSSsBpUEZn6VGbBEX5dxmdRpNpnI65ZmXPYLSru2cDg3DdgqIg30zTlOMHIJe2/ieElLfL08SIvQA2gAAAAAAAAAAAAAAAAAAAAEq0b+MXXb2gQ/mrQiqiVaN/GLrt7QIfzVoQFVEq6lvi6qPaBgnzqqxVRKupb4uqj2gYJ86qsBVQAAAAAAAAAAAAAAAAAAAAAAAAAAAAASrI/tp9PPZ/mX7xxwVUSrI/tp9PPZ/mX7xxwVUAAAAAAAAfKRGjTGjYlx2n21elDiCUk/zGPlZ2tXSQHrS5sosCFHTzekynktNNp+VS1GREX5TEyc6l9N7J1UXTtm+1FkkZpIsRq3J8UzLtsc8+MJB7+pb6T9PyHsGU2ukGk17v7t6X4jYcvT5VSRnd/8AuQY7XFMMw/BKkqHB8Up8erCdW8UKqgtRGPEV9cvw2kpTyP1ntuYn/uz1LZce1Rh2IafQl+iTfTV3Vgn5d4cQ2mEmXqMpiy39Wxd89w6myKipUwspzGRk1ibi3HJzsJiKWx+htDTKSJKE+rkald+6jAdPqxpRj2smNRsSyqfZsVbNpDtHmYLyG/KzjPJdQw6akKM2lLSnklPEzIttyLcZVZVsK3rZVPYR0PQ5rC4z7Si81ba0mlST/AZGZDlAAikDpTxCnw/AsSo87zatc02edVQWrE6Mc1qO4RpXFcNbCmnGTbMm9jb5ElKdlEouQoGE6cUmByMnk1Euc8vLLp+9m+UrQom5DqEIUlvilOyNm07EfI9zPuYysAEJm9HOmM7GMJxdd/lzLen9jPtqWZFs0R5bcuUbhqcU402nfgbijSRERdiJZLLcjzDTjQ3GdPLO4ySRe3+WZJfMoi2F7kcpuRMdjI34R0k222000k1KPg22kjMzM9z7ijAA17mdE2nE/GZeBS861Bcw5xana/G1XSFV9S4a+aVR0m14iiQruhDy3W0HsaUkZFtRbfRynstTqXViDk+Q09xUwSq5DMCQyUW0hEs1pYlNuNLM0pWZqI2zbVuf123YZ+AAAAAAAAAAAAAAAAAAAAAAJVo38Yuu3tAh/NWhFVEq0b+MXXb2gQ/mrQgKqJV1LfF1Ue0DBPnVViqiVdS3xdVHtAwT51VYCqgOqyemsb+kkVVVllrjcp7jwsqtuK5JY2MjPgmUy8ye5FsfJtXY+2x9xrVimrOeabaVQdR831Yh5Q/eWM2uSvP8hpMXpoHk8l9CTTIi15PKecQ2REjg6RmRn8GXcw2qAa7TuqrJJmMQsuwjSuFdV/0Gxs3slyMlKN4MJxTpLbjmiM6mQ6RNGpG5toWW+60bFyyKx19yFGVKj0unkSdice+rsYlXDl74MtuwleCZmmGTCkqZbS+gjX4xLNzdJN8d3AFnARWm6gcktb2vP6WjB4zfuW5UdmxftqlSkwELNRux3Gm22DdU2rw/h1J4+c4ps/NGGUvVZP1BiTIWPTMLRNrbvGkOTMSyxjJYa4k+wJlxh10o7aWZBJSslISSyIlpUlw+xgNnQEyz3UC9xLUSHDjF5VVt4jc3L8A3Y8cn34z0QmzOQ8aUtESXXCM1LSgiUZnvsQllV1TZPnzdczg8fCrG0i5ZCqJKcXy9u7qJ7UmDIdS2c/yRCmTSttJu8WTUgk7p58uJhtAA16m9S1xBpV5ROwqU1OqsfyGZPomLVpyMubWTWYy223zjeI4SlKV4bnwZcT89rkZcLTi87MJ8Rt/LMfqKp1cdtw24Fs7N4umauaDNcdnzSSTZkrbczUouJEklKDvAGvkfUXUNWZwMpRlji6K5zidhCMfer2CjRWmUPoRLSskFJU+b8fdRKeNo21bJQlWyhy6vMcvwHK8xiW+pNln1NjmOOWlxJmQYLBVFoWy2oTHkjDXInGjUvwnVOuoSTRqcMnCMwvADWdvUbVmpkKye6zN15nGMkocQs6QoEVMawXMah+UylOeCTxOpdmbt+G4hri2RKbUZ7lycG1QzGt1DurHVyz1IoqyXLu00MC1raVmilxoi3FJ8BTLR2SXSjsqdLylaEuFzNHNJJAbHgNe8puNW6jD8TzVeqk9rJLY4Lddh8esr/J7iU+snHY7ylsLfMkNKX57LjJNNtGtfPipR/M9UM9hZVFzd/J338dsc0n4ceNnBYSxHYjtyCTKbc8MpByFPR91cnTaNteyWyVsoBsQA190p1D1Ll3WNJu8hTkR6h4dJyuHClssQ2KqU2qPxisuMMeJ5OpMpJGp4n3SNBnyMj4jPNDsgzjIMfvVahWdfNt67JbKvNVfGNmO2007s202RmalEkj481HyVtyPbfiQcDI/tp9PPZ/mX7xxwVUaw9U+q2RaNasYbmmJaX5Jn903gOYx4NNRQ1yHVvKn48aVukgjUhlJp85ZJUZbkW3cay9CfUX1Kan6qaiYVnuSVuN6gZK8zbttZbCnONx4jKFIOPW1hKZbR4ZKI1Gb5LURpUonOClAPTgYVmmtGlOnktFZmGe08Cyd7s1hPk9Pf7b/BxW+Tzn/Sgxjf0hJOQ7uaqauZvlxL7qgM2BUtcX+EmK8mVuI/wvuvb+szLYizTCtNdPNOIi4OAYPRY6y6ZqdTWQGo5uqM9zU4aEka1Gfc1KMzMz3M9wGF/TkzzJ08dL9CclnNrL4Oyypwscgnv6OSHkrnl/4f+vYDwjX7Le+Yaw1+JxV+mDhdO2b5F60qnTye57+jkiOyoi9BkfcqyACYVnTZo/Fns3V/jLmX28dXiNWWWzXruQ0v++0ctS0sHt22aSgiIzIiIU1tttptLTSEoQgiSlKS2JJF6CIvUQ/QAAAAAAAAAAAAAAAAAAAAAA6++v6PFaaZkWTXEKqq69pT8ubNfSyww2XpUtajIkkXymY7Aa7dSLDeV606F6ZXrPj41bXdhb2MRxJKZmPQYhuRmnUmWykk4onOPrU2n5AGXY71X6BZTdQaGszw2ZFq6TFa7Y1U2vi2Dh+hMWTJZbZkGfqJpat/VuKBa5pjVJklJiNpZeDbZH5R7mR/BcV4/gIJbvnJSaU8UmR+cZb+rcx0us2E41qBpVk+I5VCZfrZlW+SyWRfAqSg1IdSf/CpCiJSVFsZGkjGpGL5Pqxqli3SPkNNexK3KL2lsvLrabG8pNlooKUuSENKMicdUlJGklHx3XufIi2MN3ry6rMbpp+Q3UnyevrIzkuU9wUvw2W0mpauKSNR7ERnsRGfyEFHdVmSU0DIaWT5RX2cZuXFe4KR4jLiSUhXFREotyMj2MiP5SGukvUXVzSy+zvS3Mc+bymUzgszL8WyFysjxZqFMcm3WZLTKCjuGhZtLQtLaSMlGSkntueL6h9UkuoVpdp/d6247ppIyfD2cnvsstGYqnu6G0pYiNPfAE644pxRqWhSUpQeyD37BuCA0yxbrRbpaHVatiajY/q69gVJEu6XIK4mGEzylOKYRFlpjn4aXW3ko5LbShJocSZJIyMVWlxzqoxqyxi7tNTomcRbl5MfJapNNCr2adtxsz8qgOEZOLS05xI23lvKWkzMtjLYBZaPJaDJUzl4/bRp6a2a7XSlML5Jakt7eI0Zl25JMyIyL0HuR9yMh2Y1o6KcVyuhg6jSr7U64yVhWc3UUo02DBZQl9uR8JKJUdhtXNzcuSTPgWxcUp777LgAmGkBxV51rS/FadT4udx/EWp0lpdWjHKVszQRJLiRcOBkZqPkhR77GSU8jOdTtQcan2Nbi3TnnGXHFbScSfCs6KNBmOKQlRJJUmwRIQRKUaFKUx2NKjSSi2M+p6W3UztLV3k1b5ZDcXlrOyZh9sm3IdwqW4UmHxI1FxjmkmEKIz5Nstq3PluArolXUt8XVR7QME+dVWKqJV1LfF1Ue0DBPnVVgKqJU5090TEDGouP5tlVDJxiVPfjToLkNb7zU1xTkmM548dxHhqNRechCHUklPFwj3M6qACW1fTthNRi0vEYtrfLhS8URhylvS0OvJgoU8aV81Nmanvh1FzVy32SZkZ7meIXOhef2WrTNjXTo9VgqbatvJTKchU+uXNhpQROnB9z0G24smm21H5cprZBL8E3D5FsCADW2o6b8wu8ys2M7fjwsCbTds1dRDyVdgaW7FKm3UoQdfFOMRktbmy3pZoUvg2pCCMlZvVdOVJFd8tvdQMwyOwP3JSuZZOwkrUitlqkxUE3HjNNJIlKNKuKEmpPpPlusVsAGDah6P4vqW889fy7JpT1JMov7K6hBJZkOMuKcLkhXwiVx2zSZ7p9PJKiMdRSaB01ZeMZPa5vlWQXDc+HZPTLJ2ISpD8Zh9hs1IYjttoT4chRGltCEmaEq2IzWa6gACWTunXCbCNOivWl4lNhGuYrppfZIyRZy0SnzTu16UuNkSN99k7kfI+4pDEJ9mc9LO0lOMONNtIiLS14TJpNW60mSCcNSuREfJak+YniSfO35YAJsvQrHl5m7lxZLkKGvLH7aLTpeY8hhWjzKmXJ7W7PjeMaFr81bqmSNRqJsldx0+FdOLOH44eGydXs4yCh8Rp73Ps2aZCTdRJTIW4tyLAZddW6tJk6pxazWTizPzj5FYQATy20Rxu4zj6MpN3dIjuzotrMokOMe502xjJSmPLcJTRvk42SG9kodS2ZtoNSFGW46+z6f6m/nTXsn1AzK6gOtyGq+tnS4y2KpMjs/wCAsmCfcNaDU3vIdeNKFqSjiRipgAmOQ6IybnUo9TqjV7NMdmnBZrfIq+PTvRURm1mtTbflkB91onFbG54bieXFH9xO3JZ0OxprOvo0cvLx+O3PduI9E66wddHs3WlMuzUETRP+Iptay4KdNojWpSW0qPkKKACe6f6KY7p5cHcQry7tFRoSqunYsnWFt01epZOHEjeG0hRoNSUHyeU65shJc9iIhk+LYlW4ii0brX5LhW1pJt3/AB1JPi8+rktKdklskj9BHufymY7sAEqyP7afTz2f5l+8ccFTUhCjSpSSM0HukzL0HttuX5jMSzI/tp9PPZ/mX7xxwVUAAAAAAAAAAAAAAAAAAAAAAAAAAAAAAAE71o0iRqtUVLtZfu49k+L2KLjHbpphLxwpiUmk+baticacQpTbiNy5JUexkexlRAAa/wCSYN1V6pUEnTzOci09xSgsUeS21vjDk6TZzoquzjbDT7aG4Slp3SazckGklHt32MfbU3QnO1XWk9noXb47j8fTFMtpEO1becZkxlxksojbNluSTJOxub7p7KJK+6TvQANX80wXMKfHdT9c9ecjxiJdy8Jm49VVtRIcOvrIZNOOrIpEhLbj7zrmxmfBBESEkSfSZ86o0p1DdodKdYtJrWmi5VTYXFpJ9VfpeRBtIDjLTnhrdaJTkd1DiSUlwkOF3URpPcjK85RhmH5xCZrM0xSmv4ceQiWzHtILUttt9H1jqUuJMiWnc9lF3LfsO4SlKEklKSJJFsREXYiAQX6RGo+pmKagwNeM7Y8qzmE1XxKrHnn11ePtNEZtuMeOSTefNwycW6ptHLilPEiIcimwnqdvrTGarUXNcTq6DGZTUuXNxZ+aiwyFTKTJDb7biUoisqMyU42lb3LYiIyIXMAEn0X091A01yLOKy4cx6Xit5fzMiqZcaQ+Vgl2U4S3GH2FN+GSUGR8VodUat+6S9IrAAACW6NG0zmes1XHTwZg56gkJ9RKeoKiS4f53JDivymYqQlWjfxi67e0CH81aEBVRKupb4uqj2gYJ86qsVUSrqW+Lqo9oGCfOqrAVUAAAAAAAAYxYaoaaVOUQ8HtdRMZh5HYO+BEp5FvHbmyHOKV8G2FLJxauK0K2IjPZST9BkAycBhEXV7EnbX3MmunAQiBZWT02RKiqiMR4UlMd5Tjzbyko85XLYz3SRKJfBRGkuTS6rYBlcamscJyylyatu5rsCNYU9vDkx/GbaW4tJKJ34QyJsyNLRLWW+5pJJKUQZcA4N1e0mN1j11kVxBqq+Px8aXNkIYZb3USS5LWZJLczIi3P0mRDHG9ZdIHbGip2tVcPXPyiOiXRxU3sU3rRhe/F2KjnyfQex7KQRkexgMxATOn6ktD7XE52cytTcZqKOvuZVC/OtLqHHYTMYcUg0eIbpoI1kg1oI1Eo0GR7FuPvm2tNfhKmZ7mFZNb42mMzMn5NWoiKrK+O6rZLq1OyEOvI289Rxm3uKdjVtuQCigMQudTqCkk2rT0WfIjUXkfunNjoQqPE8oV25mayV5iDS65xI+La0q9ewy4jIy3I9yMB/QAAAAABKsj+2n089n+ZfvHHBVRKsj+2n089n+ZfvHHBU1LQk0pUoiNZ7JIz9J7b7F+YjAfoAAAAAAAAAAAAAAAAAAAAAAAAAAAAAAAAAAAAAAAAAAAAAABKtG/jF129oEP5q0IqolWjfxi67e0CH81aEBVRKupb4uqj2gYJ86qsVUSrqW+Lqo9oGCfOqrAVUAAAAAABBsw0lyO3tM7so2MsvvXWW4tZQnVOs8nYkFcNTq/OV5vhmiQZEeyj78SPct7yADVS70j1gh08qRRYi1Jmoi36UNqVXSHf7TkDUts2ESlHHOR5MlbjRvF4SXUo8TbuQ/WFYPn2HXCNRtT3rGDVQ8wdyaxuMrsqZmTFrvcBUY3ZioBNREKQ7s2omyMiIiVyWW6xtSACE59qdpBrxiz+nOleq2B5neS5lfKOpqcmgyX3IrE1h19fBDpnxS2lRn/AJekyIYtqxp5rVlGqVgVNS3KMeXdY/aNHW+4DFVPYivx1vHOW+hVmuYg0OGgm1IZ8NtsiVvySrZ8AGrF3gut8RMSux/FMirm2snyVx21oTx1yw8CdJN2M6hyz8ZDcJSXFE+SWyk8m0cUKSR8v5X0esdbi+n+k2U6JZXb4jRUFaVyVFY0ak2Ng32VGkKkzmFJitGhK1JabV4xmlO6UJW25tQACGXsluioNXsTsG1Ktb6Qt6sjKJPOamwiNRYyUEXZWz7a2j/u8Nz7dztFREdgVMKC+vm5HjttLV/eUlJEZ/5kOWAAAAAAAANYeqfSnItZdWMNwvEtUMkwC6cwHMZEG6opi47qHkz8eJKHTQZKWyo1echKkmexHv2GsvQn06dSmmGquoua57jdbkmoGNPM1DbuWzZzbciI8hSzkVtmSHm1eISSJRGwa0kSUqNvmpI3jyP7afTz2f5l+8ccFVASb6fcnHt29VNI83xEkdlT2a8rquP/ABE/Xm8ttH+J9pnb1kRbGeaYVqVp5qPEXOwDOKLImWjNLqqye1INpRHsaXCQozQoj7GlREZH2MtxkowrNNF9KdQpaLPL8Cp59m1/ubMmCZnsdtvg5TfF5v8A6VkAzUBJvpN55jCeWl+u2SwW0F8HW5U2WRwS+Tkt5SJ5/wDmf69wPN9fsS7Zho9X5ZFR9dOwu4bJ8y9alQZ5s8NvTxRIeUZegjPsYVkBMKzqT0flT2aW/wAmcxC3kK8Nqty2E9SSHV/3GilpQl89u+7SlkZEZkZimtuNutpdaWlaFkSkqSe5KI/QZH6yAfoAAAAAAAAAAAAAAAAAAAAAAAAAAAAAAAAAAAABKtG/jF129oEP5q0IqolWjfxi67e0CH81aEBVRKupb4uqj2gYJ86qsVUSrqW+Lqo9oGCfOqrAVUAAAAAAAAfN99qMy5JkOJbaaSa1rUexJSRbmZ/mAfQBHYXU9hz9dLurDE8qqq1Fai8r5k2PGJu1qjdQ2ucxwfUaW0eK2tSHyaeJCiMmz9AyG51hjw3raDjOA5Zl06ps2qlUaljxjJ59UdMhZk9IfaYbQhtaeSnnGyNRkhHNRkkwoICL1XUdW2N1GkqqJjVFYVtQ5HaXHSU9ibNsnoKm3vhTb4trbSSuBq9CjSay2GUWur7EZu1ax3AMtyixqro6JdfUx43iOPEwh9TniyH2o7TRIcLznnW91FxSSlGklBQAEmrOomnvn6VnGtPMzuCsYTU+xOJGicqNlx9bCTlNrkJccPxWXkmUVMgy8JRn2NJq5lLqjZZLfQ8Zo/JlynLW5alvyIKm0R4cB8mVcUJeVzWpxxpKVmpJGXNXBOxIAU0BjWn+TzMpoVv20dli1rpkmrsW2SMmiksOGhSmyMzMkLIiWkjMzJKyIzMxkoAAAAAAAJVkf20+nns/zL9444KKvIKFq9Zxdy7gIuZEVc1quVJQUpyOhSULeS1vzNtKloSaiLYjUkjPcyGvfUtgedalau4hiOnOqVjp9eS9Psx8C6gx0OuI2scc3bPl5yUq7brbUlZbEZH6SPWrom6VuqHRfW/UlvPLxMDJrGBGeiZrMp138K5i+KZPNlJW60tpZrJhRtrUlxZI5GkiQRmHpSAlXuH1SRP93qZpfZpL0JdwmwiL/OtNo4R/lJBfkDyzqnif/LmlVtt/9asa/f8A/lkbf6gKqAlX0Z9R0T7IaEYpI29PuVnq3t/yeUV7H+uwfTY1Wi/ZDpezV/b0nWXlC+X5fhpzJn/lv+ABS7Oqq7uA9V3NbFnwpCeD0aUyl1pxPyKQojIy/KQmTnTRpvWuqladvX2nUkzNRHiNo5AikZ99zgHyhLPf1rYUfp+U9/19PifH+y2g2qsDb0/+jxpm3/iSXd/zbh75PAWO1pjOplcfrORpvfmgvyuIhqbL/uAfP3G6lsRPeozHENQYSPRGvoS6WwV8u8yITrCjP1EUNBb+vY+2e4dc5Fe0qZuU4dIxmxJxbbkF2axKLYvQ4h1lRkpCvVyJKu3dJDBvfSaDN/ZDUBmr+X3VgyoG35fKGkbfnGdYhm+G6g0yciwXKqnIatbimSmVkxuSz4ieykc0GZEovWXpIB3YDRDOm14Z/tAbbWxl9bcekbxnHLnzj4HXWjb7JKMi7eZJTFVufoLf8pd1/tHvHzXGI+BRpLzcLF4reaW3hKIiUtMpqNCaX+BS3H1//oAbqgI7lutmTQc0TpVpNpp9GuS19WxaWxyrhFXX1rDu5MpdkG26tTrnBZpbQ0rsW6jSWwluvmu+WZl00ZjOwnEXajKcft49DlFTNu/JX6h3xWVGSXmG3CfQ4hxriZcSU29yPbY0GG2gDU3Js71Gpep/CXGtKkWWZXGm01pVNCuknBiLTYNKWt2e40gyaIiLziZNZmoiJBig0vVFWxMNzu91Rwudid1pxKahXVQxJTY+M68hC43kbqUo8oJ7xEJRuhB8jMjIttwFxAQ2D1B57Q3uPRtZNEncLpMtmtVtVaMX7VkbEt0jNlic0lpvyZa9jSRoU8jlsk1EZkOVO17y2zzfIsc0y0fl5ZT4XJTCyC2O4ZhGUrwycXHhMrSryp1CFo5clso3VxJZmRkAtACFdEs1qy6csfsWEOJalTrZ5CXUGhZJVYyDIlJPuk9j7kfcgAXUAAAAAAAAAAAAAAAABKtG/jF129oEP5q0IqolWjfxi67e0CH81aEBVRKupb4uqj2gYJ86qsVUSrqW+Lqo9oGCfOqrAVUAAAAAAB8ZkVmdEfgyUmpqQ2ppwiPYzSotj7/kMfYAGvulXSDiWmxW9f5Fg51c6kdx5lNJg0OpnPxHC2UufMQpbkp7iRFyR4DZnyUbZqMjT+rPpWds9M8VwSzy6lySXR2Ttnav5XjCLSvvn3UrJxyTAS+0jxC5kptXMyQpJHxV6BsAADXyu6UHKHFGcex7P2YUisgV8WpkFRt+DGdhWb09hTkdDiErb3dS2pps2t0oPipG5En+5H0uWuVU64uR5jjN/LlZO7ks+NfYj5fTSlOxUMKZVAVKLfw+HNlanVG2e25OGRqPYIAGvUXpQeg1WGY1HyrGnqjEEqRFclYaydnALylbpLq5jTzZ17hoUltZkh1Bk2nghruR5fT6XWmC5hAyuoV7tE/PuysEJQhhxmPYSEykqTzXsrwnGkoPuRqJw1EW5cTqwAMS00oLWjoZMm+YTHs7uyl3EuOlZLKMp9w1JZ5JM0qNDfBBqIzI1JMy7GMtAAAAAAAAASrI/tp9PPZ/mX7xxwVUSrI/tp9PPZ/mX7xxwVUAAAAAAAABh+b6waW6cONRs4z6jp5cjtHhSJiPK5J7b8WY5Gbrp7EZ7ISZ9hi307MryU+Gl2h2X3Ta/rLK+QnHa/8AAZlLLywyP0kaIiy29fo3CsgJN9CXURlp75TqpR4XDX6YWH1JSpaS9ZeX2BLbV8naGgy7nv3LbPcOxRnDaVNMzeXlufiLecmXNg5MkuLV6d1rPZKfkQgkoL1JIBr9kOkdzqDq11AUthT2MSsyvEqOFWWa4y0MuSmmpBkbLplxUttzwzPiZmk9t9txPrPGNV9R+lzUvP8AL9O8gh5zl3ubXNUble4qciJXuMtESWkkazSt0pT5bF9a6Rjd4AGmuqOkNRj2vl/qRqJp5qbkuLZdT1qI87B7W5TIrZsVCm1sSYdZIbdWhaTSpDhNrJJkojNO+58aNo9kLHTRqxOxfRy6oJeVWrFpW0ky0nWd9OhxVscHJRzJT5lJWhpZpaQpOyeCTLkN0wAQXHXbDMepDGNSYeJZHBpJGnMqN41rTSIK48hVg0ZMOpeQk2nTSk1cFbKNJb7bdxNtSdF8/wBQMh1+Zosflolv2+JX2PqltqjxrZ6uQ0+bLbyi4mSlNeGaiMySau+w3DABqzqPkOT9TbeGadUWkeeY4iDlNTkGR2ORU666NWtQH0yTaacc82W4txCEEbHNGxqM1FsOdjGQZX075bqDi9rpRmmTQsoyKTkuNWOO1a57MpUpKTXEkrSe0RaHEmXN7g2aDSZL33IbMAAivRzVZTTdPuPws0xqbj90cqyfl1sxpTbsdTk59fEyURGZbKIyV6DIyMuxkAtQAAAAAAAAAAAAAAAAAACVaN/GLrt7QIfzVoRVRLtNLB2LrBq/i06U6t9y1qciitOOGrhCk1UaIngRn2Qb9bK9Hblz9ZmAqIlXUt8XVR7QME+dVWKqJV1LfF1Ue0DBPnVVgKqAAAAAAACXZ/n+bUOpVTjdD7jN0bWPWORXDkuE6/JdRFdZSTDBpfbS2pZOq89SVkk0l5p7iHM9SGp+X4TNsrSouYkSSzT3USbX4Ve0SoJOWcZKq03ppcLBamndiejmhLhEsvCIlFuG4QCDnqtqvliMerMHlYhVWmXe6dhFXa1cqY1URIXhtriSW25LJvSzec2WZLaS1stPF3hyXisnqP1fuqKXlmKU2IQYVLjdPfzodg1IkrlOyZEhh+K0+26gmkkbBKQ+bTnbcjbPlukNogGtGUdQep2GMSsRu0VMrJSy36H2rimw62tYzMc61M/xVVUR5yW6okn4J8Xkp3PxDNBFwH9VrfrxkVZSIxyhx7HLBzFrm9s1ZJQWSDU7AlNMtpahuOx32W5CFqcI3d1NkaNyc77hssA1czvVjVbOaB+1xCbVY/S01hiSLBoilJsZLk16DIe8GUhaUNtJakeGbZtOeLusjW2XY+3quoHOp2sacRiOUt5UWEq2gQ4cHFbiKhp6I0taNr2QaYExalMrQtplpJtqUZc1k0pSg2MAa3U2s2d2dMRZfMrHLNnJaGM5Aax65xyXBRJlEh1tbMl7lLbSZGlEppZx3zS4k2zJJkrJKXIb4sKwnVR27sXZGQXkdybDckOHHOJYupZQwloz4o8ElMGkyIj3bWfpdXuFtAAAAAAEqyP7afTz2f5l+8ccFQbkx3XnY7UhtbrGxOoSsjUjcty5F6S3LuW41m6p8i1qxnVjDZ3T/p/Ey/NHcBzGPCiS57MVmOSp+PbyVG6pCXCQZJ+D5JNXL07EY1o6GMS6uK3VDPsT11VqBg11nD7dxLy1rG2pi7R1lKk+THYvJeixyQhRm02TW23MkqTshJh6XTZ0KtiOz7GYxFisJNbrz7hIbbSXpNSj7EX4TExf6mNLJj7kHA5lpqDNbWbZs4dXO2rSVkexpXLaLyVoyPsZOvI2PsP3B6adJfK2rTLaabnFk0onETMwsXrk21l6FNMyVKYYP8DLaCI++25mKdHjsRWG40VltllpJIbbbSSUoSXYiIi7ERfIAlX0R9SGXJ2x7TzGcBirLzZWVWB2k5G/ywYCyZPb8E78H4QPQu5yTz9U9Z80yNCvr6+sl/Q/X/8AKSIHCQtJ+tLshwjLse5bkdZABiuE6V6babtuowPBaOiU/wD796DCbaekH61OukXNxR+s1mZn8oyoAAAAAAAAAAAAAAAAAAAAAAAAAAAAAAAAAAAAAAAGFZtpbX5ffVeXV+SXeL5FUtuRmralcYS89EX3XFeQ+06y81yJKyJbZmhaSNJp3VyzUAGH4Pg+T4nKkyL7WPMMzbfbJDbF5FqGkRzI9zWg4EGMozP0HzUotvQRH3GNdS3xdVHtAwT51VYqohXW5lf0AdN99qJ5B5f9B9xjmSeR+L4XlXkF5BleD4myuHPweHPirjy34q22MLqA8q/q534rv7bf0AfVzvxXf22/oAHqoA8q/q534rv7bf0AfVzvxXf22/oAHqBIxiilZA1lMiAlyzYgu1qHlLVsUZ1aFrbNG/A91NoPcy37bb7GYwun6d9IqMpaYONS1plmwRJl3M6UmK0y+UhpiKTzyiiR0upSomGPDa81JcNiIh55/VzvxXf22/oA+rnfiu/tt/QAPRfKNDNM8vZkM29LOZVJnuWZv1tzOrpDclxsm3VNPRXm3GScQRE4ltSUuHuayUZmZ8v6T+mya6ZUM4rHjwZ1bDp3o0d1xlryOKpao7SUoURIJBuL7p2M9+5nsQ83fq534rv7bf0AfVzvxXf22/oAHpDkOj+n+Tt2SbSolIetbBq1flwrSXCltzG2UsJeYkMOodjr8JBIM2lI3SaiPfkrf9VGkWndDEjQanHEx2YlXJpmyKS8pRxZCycfJalLNTi3FpJanVGbhq3M1bmZn5ufVzvxXf22/oA+rnfiu/tt/QAPQ+26fdJLydXz7PF3nVVjEGOyym0mNx1phLSuIp5hLpNPuMqQk23HUqWjbsotz3/sHp/0mr7ty/ZxuQ5IXJly0sybabIiMOSkOJkkzFcdUwyh0nVm422hKFqMlKI1ERl53/VzvxXf22/oA+rnfiu/tt/QAPRah0M01x2IqHCq7SSlU2JPJyzvrCwebcir5xkIdkvuLQy2rc0sJUTRGpXmecrdXaV+Q+5FU5feNQUVs/bQa7yXipJnuphlTnMyU2ytbikkSSPsyW/wZmvzp+rnfiu/tt/QB9XO/Fd/bb+gAeqgDyr+rnfiu/tt/QB9XO/Fd/bb+gAeqgDyr+rnfiu/tt/QB9XO/Fd/bb+gAb/5H9tPp57P8y/eOOCqjQro362ffq9STdn9LP6DfoGwe6Y4e7Puj5Z5fPqVb7+Az4fDyH0bK5eJ/wAPHzt9QAAAAAAAAAAAAAAAAAAAAAAAAAAAAAAH/9k=)"
   ]
  },
  {
   "cell_type": "markdown",
   "metadata": {},
   "source": [
    "Sebuah objek pada dasarnya adalah anggota suatu **class**. Mempertimbangkan contoh class di atas, setiap siswa adalah objek dari kelas Siswa. Sebagai contoh Andi adalah objek dari kelas Siswa.\n",
    "* Class merupakan package/paket untuk menyimpan semua atribut, variabel, dan fungsi yang telah dibuat.\n",
    "* Atribut merupakan data/objek yang dimiliki oleh **class** untuk digunakan ataupun diolah oleh fungsi yang dimiliki class\n",
    "* Method merupakan fungsi yang mengatur perilaku/perintah interaksi antar objek yang telah dibuat."
   ]
  },
  {
   "cell_type": "code",
   "execution_count": 1,
   "metadata": {},
   "outputs": [],
   "source": [
    "class Normalizer:\n",
    "    min = 0\n",
    "    max = 0\n",
    "    \n",
    "    # membuat construct inisialisasi\n",
    "    def __init__(self):\n",
    "        \n",
    "        pass\n",
    "\n",
    "    def fit(self, data):\n",
    "        \n",
    "        \n",
    "        min_data = min(data)\n",
    "        max_data = max(data)\n",
    "       \n",
    "        self.min = min_data\n",
    "        self.max = max_data\n",
    "        \n",
    "\n",
    "        return min_data, max_data\n",
    "       # return f\" min data = {min_data}, max_data = {max_data}\"\n",
    "        \n",
    "    def transform(self, data):\n",
    "        x_scaled = []\n",
    "        \n",
    "        for index in range(len(data)):\n",
    "            min_max = (data[index] - min(data)) / (max(data) - min(data))\n",
    "            x_scaled.append(min_max)\n",
    "        \n",
    "        self.data_scaled = x_scaled\n",
    "        \n",
    "        return x_scaled\n",
    "\n",
    "    def inverse_transform(self, data):\n",
    "        #data_inv_scaled = []\n",
    "        #inversed_data = self.transform(x_scaled)\n",
    "      \n",
    "        initialed = []\n",
    "\n",
    "        for index in range(len(data)):\n",
    "            back_initial = (data[index] * (self.max - self.min)) + self.min\n",
    "            initialed.append(back_initial)\n",
    "        \n",
    "        return initialed\n",
    "\n",
    "            \n",
    "\n"
   ]
  },
  {
   "cell_type": "code",
   "execution_count": 110,
   "metadata": {},
   "outputs": [
    {
     "name": "stdout",
     "output_type": "stream",
     "text": [
      "min value : -9\n",
      "max value : 11\n",
      "x initial    : [-3, -9, 0, 8, 11]\n",
      "x scaled     : [0.3, 0.0, 0.45, 0.85, 1.0]\n",
      "x inv scaled : [-3.0, -9.0, 0.0, 8.0, 11.0]\n"
     ]
    }
   ],
   "source": [
    "# Define a data to normalize\n",
    "x = [-3, -9, 0, 8, 11]\n",
    "\n",
    "# 1. Initialize a Normalizer object\n",
    "scaler = Normalizer()\n",
    "\n",
    "# 2. Fit the data\n",
    "scaler.fit(data = x)\n",
    "print('min value :', scaler.min)\n",
    "print('max value :', scaler.max)\n",
    "\n",
    "# 3. Transform data\n",
    "x_scaled = scaler.transform(data = x)\n",
    "print('x initial    :', x)\n",
    "print('x scaled     :', x_scaled)\n",
    "\n",
    "# 4. Transform back the scaled data (Inverse)\n",
    "x_inv_scaled = scaler.inverse_transform(data = x_scaled)\n",
    "print('x inv scaled :', x_inv_scaled)\n",
    "\n"
   ]
  },
  {
   "cell_type": "code",
   "execution_count": 111,
   "metadata": {},
   "outputs": [
    {
     "name": "stdout",
     "output_type": "stream",
     "text": [
      "min value    : -20.0\n",
      "max value    : 100\n",
      "x initial    : [8, -3.7, 9, 8.2, 100, 8.9, 4.3, 12.5, -20.0, 3.2]\n",
      "x scaled     : [0.23333333333333334, 0.13583333333333333, 0.24166666666666667, 0.235, 1.0, 0.24083333333333332, 0.2025, 0.2708333333333333, 0.0, 0.19333333333333333]\n",
      "x inv scaled : [8.0, -3.6999999999999993, 9.0, 8.2, 100.0, 8.899999999999999, 4.300000000000001, 12.5, -20.0, 3.1999999999999993]\n"
     ]
    }
   ],
   "source": [
    "# Define a data to normalize\n",
    "x = [8, -3.7, 9, 8.2, 100, 8.9, 4.3, 12.5, -20.0, 3.2]\n",
    "\n",
    "# 1. Initialize a Normalizer object\n",
    "scaler = Normalizer()\n",
    "\n",
    "# 2. Fit the data\n",
    "scaler.fit(data = x)\n",
    "print('min value    :', scaler.min)\n",
    "print('max value    :', scaler.max)\n",
    "\n",
    "# 3. Transform data\n",
    "x_scaled = scaler.transform(data = x)\n",
    "print('x initial    :', x)\n",
    "print('x scaled     :', x_scaled)\n",
    "\n",
    "# 4. Transform back the scaled data\n",
    "x_inv_scaled = scaler.inverse_transform(data = x_scaled)\n",
    "print('x inv scaled :', x_inv_scaled)"
   ]
  },
  {
   "cell_type": "code",
   "execution_count": 114,
   "metadata": {},
   "outputs": [
    {
     "name": "stdout",
     "output_type": "stream",
     "text": [
      "min value    : -20.0\n",
      "max value    : 12.5\n",
      "x initial    : [8, -3.7, 9, 8.2, 8.9, 4.3, 12.5, -20.0, 3.2]\n",
      "x scaled    : [0.8615384615384616, 0.5015384615384616, 0.8923076923076924, 0.8676923076923077, 0.8892307692307692, 0.7476923076923078, 1.0, 0.0, 0.7138461538461538]\n",
      "x new init   : [4.0, 3.0, -2.0, 1.0, 9.0, 8.0]\n",
      "x new scaled : [0.5454545454545454, 0.45454545454545453, 0.0, 0.2727272727272727, 1.0, 0.9090909090909091]\n"
     ]
    }
   ],
   "source": [
    "# Define a data to normalize\n",
    "x = [8, -3.7, 9, 8.2, 8.9, 4.3, 12.5, -20.0, 3.2]\n",
    "\n",
    "# 1. Initialize a Normalizer object\n",
    "scaler = Normalizer()\n",
    "\n",
    "# 2. Fit the data\n",
    "scaler.fit(data = x)\n",
    "print('min value    :', scaler.min)\n",
    "print('max value    :', scaler.max)\n",
    "\n",
    "# 3. Transform data\n",
    "x_scaled = scaler.transform(data = x)\n",
    "print('x initial    :', x)\n",
    "print('x scaled    :', x_scaled)\n",
    "\n",
    "# 4. Transform another data\n",
    "x_new = [4.0, 3.0, -2.0, 1.0, 9.0, 8.0]\n",
    "x_new_scaled = scaler.transform(data = x_new)\n",
    "print('x new init   :', x_new)\n",
    "print('x new scaled :', x_new_scaled)"
   ]
  },
  {
   "cell_type": "code",
   "execution_count": 2,
   "metadata": {},
   "outputs": [
    {
     "name": "stdout",
     "output_type": "stream",
     "text": [
      "x new init   : [4.0, 3.0, -2.0, 1.0, 9.0, 8.0]\n",
      "x new scaled : [0.5454545454545454, 0.45454545454545453, 0.0, 0.2727272727272727, 1.0, 0.9090909090909091]\n"
     ]
    }
   ],
   "source": [
    "scaler = Normalizer()\n",
    "x_new = [4.0, 3.0, -2.0, 1.0, 9.0, 8.0]\n",
    "x_new_scaled = scaler.transform(data = x_new)\n",
    "print('x new init   :', x_new)\n",
    "print('x new scaled :', x_new_scaled)"
   ]
  },
  {
   "cell_type": "code",
   "execution_count": null,
   "metadata": {},
   "outputs": [],
   "source": [
    "0.86 - 0.73"
   ]
  }
 ],
 "metadata": {
  "kernelspec": {
   "display_name": "base",
   "language": "python",
   "name": "python3"
  },
  "language_info": {
   "codemirror_mode": {
    "name": "ipython",
    "version": 3
   },
   "file_extension": ".py",
   "mimetype": "text/x-python",
   "name": "python",
   "nbconvert_exporter": "python",
   "pygments_lexer": "ipython3",
   "version": "3.7.3"
  },
  "orig_nbformat": 4
 },
 "nbformat": 4,
 "nbformat_minor": 2
}
