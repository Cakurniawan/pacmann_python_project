{
 "cells": [
  {
   "attachments": {},
   "cell_type": "markdown",
   "metadata": {},
   "source": [
    "# Case I : Video Streaming Services\n",
    "Pertemuan 13 - 14\n",
    "Python - Sekolah Data - Pacmann Academy"
   ]
  },
  {
   "attachments": {},
   "cell_type": "markdown",
   "metadata": {},
   "source": [
    "## Table Plan"
   ]
  },
  {
   "attachments": {},
   "cell_type": "markdown",
   "metadata": {},
   "source": [
    "| **Basic Plan**       | **Standard Plan**                                       | **Premium Plan**                                               | **Services**   |\n",
    "|----------------------|---------------------------------------------------------|----------------------------------------------------------------|----------------|\n",
    "| ✓                    | ✓                                                       | ✓                                                              | can_stream     |\n",
    "| ✓                    | ✓                                                       | ✓                                                              | can_download   |\n",
    "| ✓                    | ✓                                                       | ✓                                                              | has_SD         |\n",
    "|                      | ✓                                                       | ✓                                                              | has_HD         |\n",
    "|                      |                                                         | ✓                                                              | has_UHD        |\n",
    "| 1                    | 2                                                       | 4                                                              | num_of_devices |\n",
    "| 3rd party movie only | Basic Plan Content + Sports  (F1, Football, Basketball) | Basic Plan + Standard Plan +  PacFlix Original Series or Movie | content        |\n",
    "| Rp 120.000,-         | Rp 160.000,-                                            | Rp 200.000,-                                                   | price          |"
   ]
  },
  {
   "attachments": {},
   "cell_type": "markdown",
   "metadata": {},
   "source": [
    "## Features List yang dibutuhkan\n",
    "- [ ] `check_benefit()` --> tampilkan semua benefit\n",
    "- [ ] `check_plan(username)` --> tampilkan benefit yang didapatkan dan udah langganan berapa lama (done)\n",
    "- [ ] `upgrade_plan(username, current_plan, new_plan)` --> harga final, if langganan > 12 bulan akan dapet diskon 5% \n",
    "- [ ] `pick_plan(new_plan, code_referral)` --> untuk new user, harga final kalo pake kode referral dapet diskon 4% "
   ]
  },
  {
   "attachments": {},
   "cell_type": "markdown",
   "metadata": {},
   "source": [
    "- Untuk mempermudah membuat tabel untuk `check_benefit()` kita bisa menggunakan library `tabulate`\n",
    "- [Referensi 1](https://pypi.org/project/tabulate/)\n",
    "- [Referensi 2](https://www.askpython.com/python-modules/tabulate-tables-in-python)"
   ]
  },
  {
   "attachments": {},
   "cell_type": "markdown",
   "metadata": {},
   "source": [
    "# import library\n",
    "from tabulate import tabulate"
   ]
  },
  {
   "attachments": {},
   "cell_type": "markdown",
   "metadata": {},
   "source": [
    "### Create Data"
   ]
  },
  {
   "cell_type": "code",
   "execution_count": 17,
   "metadata": {},
   "outputs": [],
   "source": [
    "# tinggal di run saja\n",
    "data = {\n",
    "    \"Shandy\": [\"Basic Plan\", 12, \"shandy-2134\"],\n",
    "    \"Cahya\": [\"Standard Plan\", 24, \"cahya-abcd\"],\n",
    "    \"Ana\": [\"Premium Plan\", 5, \"ana-2f9g\"],\n",
    "    \"Bagus\": [\"Basic Plan\", 11, \"bagus-9f92\"]\n",
    "}"
   ]
  },
  {
   "attachments": {},
   "cell_type": "markdown",
   "metadata": {},
   "source": [
    "#### Create User Class "
   ]
  },
  {
   "cell_type": "code",
   "execution_count": 12,
   "metadata": {},
   "outputs": [],
   "source": [
    "# isilah titik - titik di bawah ini\n",
    "from tabulate import tabulate\n",
    "\n",
    "class User:\n",
    "    \n",
    "    def __init__(self, username, duration_plan, current_plan):\n",
    "        self.username = username\n",
    "        self.duration_plan = duration_plan\n",
    "        self.current_plan = current_plan\n",
    "    \n",
    "    def check_benefit(self):\n",
    "        \"\"\"Function untuk menampilkan Plan yang tersedia di PacFlix\"\"\"\n",
    "\n",
    "        table = [\n",
    "            [True, True, True, \"Bisa Stream\"],\n",
    "            [True, True, True, \"Bisa Download\"],\n",
    "            [True, True, True, \"Kualitas SD\"],\n",
    "            [False, True, True, \"Kualitas HD\"],\n",
    "            [False, False, True, \"Kualitas UHD\"],\n",
    "            [1, 2, 4, \"Number of Devices\"],\n",
    "            [\"3rd Party Movie\", \"Basic Plan + Sports\", \"Basic + Standard Plan + PacFlix Original\", \"Konten\"],\n",
    "            [120_000, 160_000, 200_000, \"Harga\"]\n",
    "            ]\n",
    "\n",
    "        headers = [\"Basic Plan\", \"Standard Plan\", \"Premium Plan\", \"Services\"]\n",
    "\n",
    "        print(\"PacFlix Plan List\")\n",
    "        print(\"\")\n",
    "        print(tabulate(table, headers, tablefmt=\"github\"))\n",
    "        \n",
    "    def check_plan(self, username):\n",
    "        for key, value in data.items():\n",
    "            if key == self.username:\n",
    "                print(f\"Nama Plan: {value[0]}\")\n",
    "                print(f\"Sudah Berlangganan: {value[1]} Bulan\")\n",
    "                print(\"\")\n",
    "                \n",
    "                try:\n",
    "                    if value[0] == \"Basic Plan\":\n",
    "                        table = [[True, \"Bisa Stream\"],\n",
    "                         [True, \"Bisa Download\"],\n",
    "                         [True, \"Kualitas SD\"],\n",
    "                         [False, \"Kualitas HD\"],\n",
    "                         [False, \"Kualitas UHD\"],\n",
    "                         [1, \"Number of Devices\"],\n",
    "                         [\"3rd party Movie only\", \"Jenis Konten\"],\n",
    "                         [120_000, \"Harga\"]]\n",
    "\n",
    "                        headers = [\"Basic Plan\", \"Services\"]\n",
    "                        print(f\"{value[0]} PacFlix Benefit List\")\n",
    "                        print(\"\")\n",
    "                        print(tabulate(table, headers))\n",
    "                        \n",
    "                    elif value[0] == \"Standard Plan\":\n",
    "                        table = [[True, \"Bisa Stream\"],\n",
    "                         [True, \"Bisa Download\"],\n",
    "                         [True, \"Kualitas SD\"],\n",
    "                         [True, \"Kualitas HD\"],\n",
    "                         [False, \"Kualitas UHD\"],\n",
    "                         [2, \"Number of Devices\"],\n",
    "                         [\"Basic + Sports\", \"Jenis Konten\"],\n",
    "                         [160_000, \"Harga\"]]\n",
    "\n",
    "                        headers = [\"Standard Plan\", \"Services\"]\n",
    "                        print(f\"{value[0]} PacFlix Benefit List\")\n",
    "                        print(\"\")\n",
    "                        print(tabulate(table, headers))\n",
    "                        \n",
    "                    elif value[0] == \"Premium Plan\":\n",
    "                        table = [[True, \"Bisa Stream\"],\n",
    "                         [True, \"Bisa Download\"],\n",
    "                         [True, \"Kualitas SD\"],\n",
    "                         [True, \"Kualitas HD\"],\n",
    "                         [True, \"Kualitas UHD\"],\n",
    "                         [4, \"Number of Devices\"],\n",
    "                         [\"Basic + Standard Plan + PacFlix Original\", \"Jenis Konten\"],\n",
    "                         [200_000, \"Harga\"]]\n",
    "\n",
    "                        headers = [\"Premium Plan\", \"Services\"]\n",
    "                        print(f\"{value[0]} PacFlix Benefit List\")\n",
    "                        print(\"\")\n",
    "                        print(tabulate(table, headers))\n",
    "                        \n",
    "                    else:\n",
    "                        raise Exception(\"Plan tidak tersedia\")\n",
    "                        \n",
    "                except:\n",
    "                    raise Exception(\"Program tidak sesuai dengan ketentuan\")\n",
    "\n",
    "    # method untuk menghitung harga final jika upgrade\n",
    "    def upgrade_plan(self, current_plan, new_plan):\n",
    "        \n",
    "        if new_plan != current_plan:\n",
    "            if self.duration_plan > 12:\n",
    "                if new_plan == \"Basic Plan\":\n",
    "                    total = 120_000 - (120_000 * 0.05)\n",
    "                    return total\n",
    "                elif new_plan == \"Standard Plan\":\n",
    "                    total = 160_000 - (160_000 * 0.05)\n",
    "                    return total\n",
    "                elif new_plan == \"Premium Plan\":\n",
    "                    total = 200_000 - (200_000 * 0.05)\n",
    "                    return total\n",
    "                else:\n",
    "                    raise Exception(\"Plan doesn't exist\")\n",
    "                    \n",
    "            else:\n",
    "                if new_plan == \"Basic Plan\":\n",
    "                    total = 120_000\n",
    "                    return total\n",
    "                elif new_plan == \"Standard Plan\":\n",
    "                    total = 160_000\n",
    "                    return total\n",
    "                elif new_plan == \"Premium Plan\":\n",
    "                    total = 200_000\n",
    "                    return total\n",
    "                else:\n",
    "                    raise Exception(\"Plan doesn't exist\")      \n",
    "        else:\n",
    "            raise Exception(\"Plan yang dipilih masih sama\")"
   ]
  },
  {
   "attachments": {},
   "cell_type": "markdown",
   "metadata": {},
   "source": [
    "#### Create Object for User Class "
   ]
  },
  {
   "cell_type": "code",
   "execution_count": 13,
   "metadata": {},
   "outputs": [],
   "source": [
    "user_1 = User(\"Shandy\", 12, \"Basic Plan\")"
   ]
  },
  {
   "cell_type": "code",
   "execution_count": 14,
   "metadata": {},
   "outputs": [
    {
     "data": {
      "text/plain": [
       "('Shandy', 12, 'Basic Plan')"
      ]
     },
     "execution_count": 14,
     "metadata": {},
     "output_type": "execute_result"
    }
   ],
   "source": [
    "# check attribute in Class\n",
    "user_1.username, user_1.duration_plan, user_1.current_plan"
   ]
  },
  {
   "attachments": {},
   "cell_type": "markdown",
   "metadata": {},
   "source": [
    "### Test Case 1 "
   ]
  },
  {
   "cell_type": "code",
   "execution_count": 15,
   "metadata": {},
   "outputs": [
    {
     "name": "stdout",
     "output_type": "stream",
     "text": [
      "PacFlix Plan List\n",
      "\n",
      "| Basic Plan      | Standard Plan       | Premium Plan                             | Services          |\n",
      "|-----------------|---------------------|------------------------------------------|-------------------|\n",
      "| True            | True                | True                                     | Bisa Stream       |\n",
      "| True            | True                | True                                     | Bisa Download     |\n",
      "| True            | True                | True                                     | Kualitas SD       |\n",
      "| False           | True                | True                                     | Kualitas HD       |\n",
      "| False           | False               | True                                     | Kualitas UHD      |\n",
      "| 1               | 2                   | 4                                        | Number of Devices |\n",
      "| 3rd Party Movie | Basic Plan + Sports | Basic + Standard Plan + PacFlix Original | Konten            |\n",
      "| 120000          | 160000              | 200000                                   | Harga             |\n"
     ]
    }
   ],
   "source": [
    "# isi titik - titik di bawah ini\n",
    "user_1.check_benefit()"
   ]
  },
  {
   "attachments": {},
   "cell_type": "markdown",
   "metadata": {},
   "source": [
    "### Test Case 2"
   ]
  },
  {
   "cell_type": "code",
   "execution_count": 18,
   "metadata": {},
   "outputs": [
    {
     "name": "stdout",
     "output_type": "stream",
     "text": [
      "Nama Plan: Basic Plan\n",
      "Sudah Berlangganan: 12 Bulan\n",
      "\n",
      "Basic Plan PacFlix Benefit List\n",
      "\n",
      "Basic Plan            Services\n",
      "--------------------  -----------------\n",
      "True                  Bisa Stream\n",
      "True                  Bisa Download\n",
      "True                  Kualitas SD\n",
      "False                 Kualitas HD\n",
      "False                 Kualitas UHD\n",
      "1                     Number of Devices\n",
      "3rd party Movie only  Jenis Konten\n",
      "120000                Harga\n"
     ]
    }
   ],
   "source": [
    "# isi titik - titik di bawah ini\n",
    "user_1.check_plan(user_1.username)"
   ]
  },
  {
   "attachments": {},
   "cell_type": "markdown",
   "metadata": {},
   "source": [
    "### Test Case 3 "
   ]
  },
  {
   "cell_type": "code",
   "execution_count": 19,
   "metadata": {},
   "outputs": [
    {
     "data": {
      "text/plain": [
       "160000"
      ]
     },
     "execution_count": 19,
     "metadata": {},
     "output_type": "execute_result"
    }
   ],
   "source": [
    "# isi titik - titik di bawah ini\n",
    "user_1.upgrade_plan(user_1.current_plan, \"Standard Plan\")"
   ]
  },
  {
   "attachments": {},
   "cell_type": "markdown",
   "metadata": {},
   "source": [
    "#### Testing with another Object "
   ]
  },
  {
   "cell_type": "code",
   "execution_count": null,
   "metadata": {},
   "outputs": [],
   "source": [
    "user_2 = User(\"Cahya\", 24, \"Standard Plan\")"
   ]
  },
  {
   "cell_type": "code",
   "execution_count": null,
   "metadata": {},
   "outputs": [],
   "source": [
    "# isi titik - titik di bawah ini\n",
    "user_2.check_benefit()"
   ]
  },
  {
   "cell_type": "code",
   "execution_count": null,
   "metadata": {},
   "outputs": [],
   "source": [
    "# isi titik - titik di bawah ini\n",
    "user_2.check_plan(user_2.username)"
   ]
  },
  {
   "cell_type": "code",
   "execution_count": null,
   "metadata": {},
   "outputs": [],
   "source": [
    "# isi titik - titik di bawah ini\n",
    "user_2.upgrade_plan(user_2.current_plan, \"Premium Plan\")"
   ]
  },
  {
   "attachments": {},
   "cell_type": "markdown",
   "metadata": {},
   "source": [
    "### Create New User Object "
   ]
  },
  {
   "cell_type": "code",
   "execution_count": null,
   "metadata": {},
   "outputs": [],
   "source": [
    "# isi titik - titik di bawah ini\n",
    "class NewUser:\n",
    "    \n",
    "    new_data = []\n",
    "    \n",
    "    def __init__(self, username):\n",
    "        self.username = username\n",
    "        \n",
    "    def check_benefit(self):\n",
    "        \"\"\"Function untuk menampilkan Plan yang tersedia di PacFlix\"\"\"\n",
    "\n",
    "        table = [\n",
    "            [True, True, True, \"Bisa Stream\"],\n",
    "            [True, True, True, \"Bisa Download\"],\n",
    "            [True, True, True, \"Kualitas SD\"],\n",
    "            [False, True, True, \"Kualitas HD\"],\n",
    "            [False, False, True, \"Kualitas UHD\"],\n",
    "            [1, 2, 4, \"Number of Devices\"],\n",
    "            [\"3rd Party Movie\", \"Basic Plan + Sports\", \"Basic + Standard Plan + PacFlix Original\", \"Konten\"],\n",
    "            [120_000, 160_000, 200_000, \"Harga\"]\n",
    "            ]\n",
    "\n",
    "        headers = [\"Basic Plan\", \"Standard Plan\", \"Premium Plan\", \"Services\"]\n",
    "\n",
    "        print(\"PacFlix Plan List\")\n",
    "        print(\"\")\n",
    "        print(tabulate(table, headers, tablefmt=\"github\"))\n",
    "        \n",
    "        \n",
    "    def convert_data_to_list(self, data):\n",
    "        for data in data.values():\n",
    "            for val in data:\n",
    "                self.new_data.append(val)\n",
    "                \n",
    "        return self.new_data\n",
    "    \n",
    "    def pick_plan(self, new_plan, referral_code):\n",
    "        if referral_code in self.new_data:\n",
    "                if new_plan == \"Basic Plan\":\n",
    "                    total = 120_000 - (120_000 * 0.04)\n",
    "                    return total\n",
    "                elif new_plan == \"Standard Plan\":\n",
    "                    total = 160_000 - (160_000 * 0.04)\n",
    "                    return total\n",
    "                elif new_plan == \"Premium Plan\":\n",
    "                    total = 200_000 - (200_000 * 0.04)\n",
    "                    return total\n",
    "                else:\n",
    "                    raise Exception(\"Plan doesn't exist\")\n",
    "                    \n",
    "        else:\n",
    "            raise Exception(\"Referral Code doesn't exist\")"
   ]
  },
  {
   "attachments": {},
   "cell_type": "markdown",
   "metadata": {},
   "source": [
    "#### Create Object for NewUser Class"
   ]
  },
  {
   "cell_type": "code",
   "execution_count": null,
   "metadata": {},
   "outputs": [],
   "source": [
    "faizal = NewUser(\"faizal_icikiwir\")"
   ]
  },
  {
   "attachments": {},
   "cell_type": "markdown",
   "metadata": {},
   "source": [
    "#### Convert Data to List "
   ]
  },
  {
   "cell_type": "code",
   "execution_count": null,
   "metadata": {},
   "outputs": [],
   "source": [
    "# isi titik - titik di bawah ini\n",
    "faizal.convert_data_to_list(data)"
   ]
  },
  {
   "attachments": {},
   "cell_type": "markdown",
   "metadata": {},
   "source": [
    "### Test Case 4 "
   ]
  },
  {
   "cell_type": "code",
   "execution_count": null,
   "metadata": {},
   "outputs": [],
   "source": [
    "# isi titik - titik di bawah ini\n",
    "faizal.pick_plan(\"Basic Plan\", \"shandy-2134\")"
   ]
  },
  {
   "cell_type": "code",
   "execution_count": null,
   "metadata": {},
   "outputs": [],
   "source": [
    "# isi titik - titik di bawah ini\n",
    "faizal.pick_plan(\"Basic Plan\", \"indira-22gs\")"
   ]
  }
 ],
 "metadata": {
  "kernelspec": {
   "display_name": "Python 3",
   "language": "python",
   "name": "python3"
  },
  "language_info": {
   "codemirror_mode": {
    "name": "ipython",
    "version": 3
   },
   "file_extension": ".py",
   "mimetype": "text/x-python",
   "name": "python",
   "nbconvert_exporter": "python",
   "pygments_lexer": "ipython3",
   "version": "3.7.3"
  },
  "orig_nbformat": 4
 },
 "nbformat": 4,
 "nbformat_minor": 2
}
