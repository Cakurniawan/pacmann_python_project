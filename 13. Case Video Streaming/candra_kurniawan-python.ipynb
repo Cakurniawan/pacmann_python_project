{
  "cells": [
    {
      "cell_type": "markdown",
      "metadata": {
        "id": "q5PnI2Mzb-Im"
      },
      "source": [
        "# Python Prerequisite Test\n",
        "\n",
        "By: Pacmann AI\n",
        "\n",
        "---"
      ]
    },
    {
      "cell_type": "markdown",
      "metadata": {
        "id": "71yk0pGecCQE"
      },
      "source": [
        "**Instructions**:\n",
        "- Make a Copy of this notebook.\n",
        "- Answer all questions.\n",
        "- Submit your answer in **.ipynb** format named with `your_name-python.ipynb`\n",
        "- Example: `budi_xaskha-python.ipynb`\n",
        "- **Submission Link**: [SUBMIT YOUR ANSWER](https://forms.gle/3VGV3t59rsPhbpZn9)\n",
        "\n",
        "**Note**:\n",
        "- There are 10 questions to answer.\n",
        "- You have to answer the question according to the descriptions. **Please read the description carefully**\n",
        "- <font color='red'>**YOU MUST ANSWER THE QUESTIONS WITHOUT USING ANY LIBRARY**</font>\n",
        "- **Do not change** the function / class name.\n",
        "- <font color='red'>**Hard deadline**: 1 week before first main course (not a prerequisite course) start</font>"
      ]
    },
    {
      "cell_type": "markdown",
      "metadata": {
        "id": "mHn4dahHthcr"
      },
      "source": [
        "# 1. Find the Structure of Data\n",
        "---"
      ]
    },
    {
      "cell_type": "markdown",
      "metadata": {
        "id": "JUzi1KZCtmF0"
      },
      "source": [
        "Given a 2D list of data, your task is to create a function that returns the number of rows & columns from that list."
      ]
    },
    {
      "cell_type": "markdown",
      "metadata": {
        "id": "15l95ZUWtuxd"
      },
      "source": [
        "Input example:\n",
        "\n",
        "```python\n",
        "data = [[1, 2, 3],\n",
        "        [4, 5, 6],\n",
        "        [7, 8, 9],\n",
        "        [10, 11, 12]]\n",
        "```"
      ]
    },
    {
      "cell_type": "markdown",
      "metadata": {
        "id": "yxB2nprzt229"
      },
      "source": [
        "Output example:\n",
        "```\n",
        "[4 3]\n",
        "```"
      ]
    },
    {
      "cell_type": "markdown",
      "metadata": {
        "id": "7pwr-IgvuaIa"
      },
      "source": [
        "Write the function here"
      ]
    },
    {
      "cell_type": "code",
      "execution_count": 34,
      "metadata": {
        "id": "D2YaIRWlq5w4"
      },
      "outputs": [],
      "source": [
        "# DO NOT CHANGE THE NAME & INPUT OF THE FUNCTION\n",
        "def check_structure(data):\n",
        "    '''\n",
        "    Function to check the data structures\n",
        "\n",
        "    Parameters\n",
        "    ----------\n",
        "    data : list\n",
        "        The 2D sample data\n",
        "\n",
        "    Returns\n",
        "    --------\n",
        "    data_shape : list\n",
        "        The shape of data with format [nrows, ncols]\n",
        "        nrows = number of rows\n",
        "        ncols = number of columns\n",
        "    '''\n",
        "\n",
        "    # variable penampung total rows dan cols\n",
        "    data_shape = []\n",
        "\n",
        "    # mencari ada berapa row dengan fungsi len()\n",
        "    nrows = len(data)\n",
        "\n",
        "    # mencari kolom dgn cara len dari data index 0\n",
        "    ncols = len(data[0])\n",
        "\n",
        "    # append kedalam var tampungan\n",
        "    data_shape.append(nrows)\n",
        "    data_shape.append(ncols)\n",
        "\n",
        "    return data_shape"
      ]
    },
    {
      "cell_type": "markdown",
      "metadata": {
        "id": "Td84PTkvumQG"
      },
      "source": [
        "Check function"
      ]
    },
    {
      "cell_type": "code",
      "execution_count": 35,
      "metadata": {
        "colab": {
          "base_uri": "https://localhost:8080/"
        },
        "id": "U0ImiFp9uYIq",
        "outputId": "3cbced0e-2159-488f-b27b-6863ee19a2bb"
      },
      "outputs": [
        {
          "name": "stdout",
          "output_type": "stream",
          "text": [
            "[4, 3]\n"
          ]
        }
      ],
      "source": [
        "# DO NOT CHANGE ANYTHING IN THIS CELL\n",
        "# Just run after you finish the function\n",
        "data = [[1, 2, 3],\n",
        "        [4, 5, 6],\n",
        "        [7, 8, 9],\n",
        "        [10, 11, 12]]\n",
        "\n",
        "data_shape = check_structure(data)\n",
        "print(data_shape)"
      ]
    },
    {
      "cell_type": "markdown",
      "metadata": {
        "id": "8rJAViFqu2Mp"
      },
      "source": [
        "# 2. Create a Weighted Average Function\n",
        "---"
      ]
    },
    {
      "cell_type": "markdown",
      "metadata": {
        "id": "HvhZSTv4u6VZ"
      },
      "source": [
        "Given a list of number (`data`) and list of weight (`w`), we want to find its weighted average.\n",
        "\n",
        "To calculate the weighted average, you can use belows formula\n",
        "\n",
        "$$\n",
        "\\begin{align*}\n",
        "\\text{weighted average} &= \\sum_{i=1}^{n} w_{i} \\cdot \\text{data}_{i} \\\\\n",
        "\\text{weighted average} &= w_{1} \\cdot \\text{data}_{1} +  w_{2} \\cdot \\text{data}_{2} + \\cdots + w_{n} \\cdot \\text{data}_{n}\\\\\n",
        "\\end{align*}\n",
        "$$"
      ]
    },
    {
      "cell_type": "markdown",
      "metadata": {
        "id": "eoR9FupBwkD_"
      },
      "source": [
        "Input example:\n",
        "\n",
        "```python\n",
        "data = [10, 20, 30, 40, 50]\n",
        "w = [0.10, 0.20, 0.25, 0.3, 0.15]\n",
        "```"
      ]
    },
    {
      "cell_type": "markdown",
      "metadata": {
        "id": "OB19Rr-Sw4jN"
      },
      "source": [
        "Output example:\n",
        "\n",
        "```\n",
        "32.0\n",
        "```"
      ]
    },
    {
      "cell_type": "markdown",
      "metadata": {
        "id": "yHSQ2vABxmXS"
      },
      "source": [
        "Write function"
      ]
    },
    {
      "cell_type": "code",
      "execution_count": 32,
      "metadata": {
        "id": "cNW88OLpu4HH"
      },
      "outputs": [],
      "source": [
        "# DO NOT CHANGE THE NAME & INPUT OF THE FUNCTION\n",
        "def calc_weighted_avg(data, w):\n",
        "    '''\n",
        "    Function to calculate the weighted average of a list\n",
        "\n",
        "    Parameters\n",
        "    ----------\n",
        "    data : list\n",
        "        The sample data\n",
        "\n",
        "    w : list\n",
        "        The sample weights\n",
        "\n",
        "    Returns\n",
        "    -------\n",
        "    avg : float\n",
        "        The weighted average\n",
        "    '''\n",
        "    # membuat attribute penampung untuk hasil nilai rata-rata\n",
        "    avg = 0\n",
        "\n",
        "    # membuat kalkulasi rata-rate pada kedua list dengan menggunakan for loop\n",
        "    # dengan mencari nilai index dari list 1 dan mengkalikannya masing-masing misal index0 pada list 1 dikalikan dengan index0 pada list 2 dst.\n",
        "    # lalu menjumlahkan masing2 element dengan operator += kedalam attribute avg\n",
        "    for index in range(len(data)):\n",
        "      w_average = data[index] * w[index]\n",
        "      avg += w_average\n",
        "\n",
        "    # mengembalikan nilai avg kedalam function calc_weighted_avg\n",
        "    return avg"
      ]
    },
    {
      "cell_type": "markdown",
      "metadata": {
        "id": "mN7H9zGexdDN"
      },
      "source": [
        "Check function"
      ]
    },
    {
      "cell_type": "code",
      "execution_count": 33,
      "metadata": {
        "colab": {
          "base_uri": "https://localhost:8080/"
        },
        "id": "RLEMQHtuxfhk",
        "outputId": "049ab7b4-5f32-4ab4-9d65-5619e9e77bef"
      },
      "outputs": [
        {
          "name": "stdout",
          "output_type": "stream",
          "text": [
            "32.0\n"
          ]
        }
      ],
      "source": [
        "# DO NOT CHANGE ANYTHING IN THIS CELL\n",
        "# Just run after you finish the function\n",
        "data = [10, 20, 30, 40, 50]\n",
        "w = [0.10, 0.20, 0.25, 0.3, 0.15]\n",
        "\n",
        "avg = calc_weighted_avg(data, w)\n",
        "print(avg)"
      ]
    },
    {
      "cell_type": "markdown",
      "metadata": {
        "id": "iitkUoYjxxZ_"
      },
      "source": [
        "# 3. Which Toko is More Profitable?\n",
        "---"
      ]
    },
    {
      "cell_type": "markdown",
      "metadata": {
        "id": "ZuQQBYhFx829"
      },
      "source": [
        "You are a data analyst that works with financial team. You are given three list of data: `revenues`, `costs`, and `toko_ID`.\n",
        "\n",
        "Your manager asked which `toko_ID` that is profitable. A `toko` is called profitable if its revenue is higher than its cost.\n",
        "\n",
        "Create a function to return which `toko_ID` is profitable from a given `revenues` and `costs` data."
      ]
    },
    {
      "cell_type": "markdown",
      "metadata": {
        "id": "MLngbKaJzxBf"
      },
      "source": [
        "Input example\n",
        "\n",
        "```python\n",
        "toko_ID = ['A001', 'B002', 'C003', 'D004']\n",
        "revenues = [80000, 120000, 57000, 450000]\n",
        "costs = [90000, 110000, 57000, 420000]\n",
        "```"
      ]
    },
    {
      "cell_type": "markdown",
      "metadata": {
        "id": "l8JDsaDr0Cj9"
      },
      "source": [
        "Output example\n",
        "\n",
        "```\n",
        "['B002', 'D004']\n",
        "```"
      ]
    },
    {
      "cell_type": "markdown",
      "metadata": {
        "id": "Hz6nkUr60IkL"
      },
      "source": [
        "Write a function"
      ]
    },
    {
      "cell_type": "code",
      "execution_count": 30,
      "metadata": {
        "id": "4kyAyD_2xxAN"
      },
      "outputs": [],
      "source": [
        "# DO NOT CHANGE THE NAME & INPUT OF THE FUNCTION\n",
        "def profitable_toko(toko_ID, revenues, costs):\n",
        "    '''\n",
        "    Function to return which toko ID is profitable\n",
        "\n",
        "    Parameters\n",
        "    ----------\n",
        "    toko_ID : list\n",
        "        The ID of toko\n",
        "\n",
        "    revenues : list\n",
        "        The list of revenue from the corresponding toko_ID\n",
        "\n",
        "    costs : list\n",
        "        The list of cost from the corresponding toko_ID\n",
        "\n",
        "    Returns\n",
        "    -------\n",
        "    toko_profit : list\n",
        "        The ID of toko that is profitable\n",
        "    '''\n",
        "    # membuat variable penampung hasil toko mana yang profit\n",
        "    toko_profit = []\n",
        "\n",
        "    # membuat for loop agar dapat mengkalkulasi profit dan mendapat toko mana yg profit\n",
        "    for index in range(len(toko_ID)):\n",
        "\n",
        "      # mencari nilai profit dengan membandingkan data revenues lebih besar dr\n",
        "      # costs\n",
        "      # maka kita akan memasukkan data string toko id kedalam var penampung\n",
        "      if revenues[index] > costs[index]:\n",
        "        toko_profit.append(toko_ID[index])\n",
        "      else:\n",
        "        pass\n",
        "\n",
        "    # mengembalikan nilai didalam var penampung kedalam Fungsi\n",
        "    return toko_profit"
      ]
    },
    {
      "cell_type": "markdown",
      "metadata": {
        "id": "_aqUmC_00w2U"
      },
      "source": [
        "Check function"
      ]
    },
    {
      "cell_type": "code",
      "execution_count": 31,
      "metadata": {
        "colab": {
          "base_uri": "https://localhost:8080/"
        },
        "id": "5wOtfjJK0wRL",
        "outputId": "732f0877-1770-466b-e990-72250d7f41c8"
      },
      "outputs": [
        {
          "name": "stdout",
          "output_type": "stream",
          "text": [
            "['B002', 'D004']\n"
          ]
        }
      ],
      "source": [
        "# DO NOT CHANGE ANYTHING IN THIS CELL\n",
        "# Just run after you finish the function\n",
        "toko_ID = ['A001', 'B002', 'C003', 'D004']\n",
        "revenues = [80000, 120000, 57000, 450000]\n",
        "costs = [90000, 110000, 57000, 420000]\n",
        "\n",
        "toko_profit = profitable_toko(toko_ID, revenues, costs)\n",
        "print(toko_profit)"
      ]
    },
    {
      "cell_type": "markdown",
      "metadata": {
        "id": "12xDDdzb1AN2"
      },
      "source": [
        "# 4. Clean the Phone Number\n",
        "---"
      ]
    },
    {
      "cell_type": "markdown",
      "metadata": {
        "id": "oc1RC7A01PaX"
      },
      "source": [
        "You are on a marketing team that have to transfer e-money as a gift to your customer.\n",
        "\n",
        "You noticed that the phone number data is inconsistent & you have to clean it.\n",
        "\n",
        "This is the valid definition of phone number\n",
        "- Starts with `62`, e.g. `62xxxxxxxxxxx`\n",
        "- It must be 11 digit number, excluding `62`\n",
        "\n",
        "Clean the phone number first. If after cleaning, there is an invalid phone number, change the phone number with `'Invalid number'`."
      ]
    },
    {
      "cell_type": "markdown",
      "metadata": {
        "id": "eqUDSP042cOO"
      },
      "source": [
        "Input example\n",
        "\n",
        "```python\n",
        "phone_lists = [\n",
        "    '82123321123',\n",
        "    '082321123321',\n",
        "    '+6282-456-654-456',\n",
        "    '+62 82 789 987 789',\n",
        "    '14045',\n",
        "    '82145-451-145'\n",
        "]\n",
        "```"
      ]
    },
    {
      "cell_type": "markdown",
      "metadata": {
        "id": "x1YZjSVk28PF"
      },
      "source": [
        "Output example"
      ]
    },
    {
      "cell_type": "markdown",
      "metadata": {
        "id": "vdCTUIbL2-IR"
      },
      "source": [
        "```\n",
        "[6282123321123, 6282321123321, 6282456654456, 6282789987789, 'Invalid number', 6282145451145]\n",
        "```"
      ]
    },
    {
      "cell_type": "markdown",
      "metadata": {
        "id": "kJJCrqBb3cmr"
      },
      "source": [
        "Write function"
      ]
    },
    {
      "cell_type": "code",
      "execution_count": 123,
      "metadata": {
        "id": "nWo8pCxb29oT"
      },
      "outputs": [],
      "source": [
        "# DO NOT CHANGE THE NAME & INPUT OF THE FUNCTION\n",
        "def clean_phone_number(phone_list):\n",
        "    '''\n",
        "    Function to clean the phone number\n",
        "\n",
        "    Parameters\n",
        "    ----------\n",
        "    phone_list : list\n",
        "        The raw sample of phone data\n",
        "\n",
        "    Returns\n",
        "    -------\n",
        "    phone_clean : list\n",
        "        The clean sample of phone data\n",
        "    '''\n",
        "    cleaned_numbers = []\n",
        "\n",
        "    # meIterasi melalui setiap karakter didalam phone list\n",
        "    # dengan limitasi hanya sebuah angka/digit\n",
        "    \n",
        "    for number in phone_lists:\n",
        "      digits = []\n",
        "      for char in number:\n",
        "        if char.isdigit():\n",
        "          digits.append(char)\n",
        "\n",
        "      # lalu mengecheck jika hasil clean number lebih dari 11 digits,\n",
        "      # maka akan menampung kedalam variable dengan data clean_number dgn indeks dari 11 character belakang ke atas\n",
        "      \n",
        "      clean_number = ''.join(digits)\n",
        "      #print(clean_number)\n",
        "\n",
        "      # Setelah melakukan Pembersihan data dari Simbol - + dan spasi\n",
        "      # dilakukan pembersihan agar data semua sama panjangnya yaitu 11\n",
        "      # dan juga dilakukan pembersihan dari angka yg start dengan '62' dan '0'\n",
        "      # karna diakhir akan di append dengan\n",
        "      \n",
        "      if clean_number.startswith('62'):\n",
        "          clean_number = clean_number[2:]\n",
        "      elif clean_number.startswith('0'):\n",
        "          clean_number = clean_number[1:]\n",
        "    \n",
        "      \n",
        "      #print(clean_number)\n",
        "\n",
        "      # memasukkan data clean_number kedalam var cleaned_numbers\n",
        "      \n",
        "      cleaned_numbers.append(clean_number)\n",
        "    \n",
        "      #print(clean_number)\n",
        "    print(cleaned_numbers)\n",
        "    # membuat looping untuk menambahkan digit '62' kedalam data digit yang panjang\n",
        "    # datanya sepanjang 11 character, lalu memasukkan ke variable phone_clean\n",
        "    # dan juga ketika menemukan kondisi tidak sama dengan 11 panjang datanya,\n",
        "    # akan mengisikan ke var phone_clean string 'Invalid number'\n",
        "    \n",
        "    phone_clean = []\n",
        "\n",
        "    for inv_number in cleaned_numbers:\n",
        "      if len(inv_number) == 11:\n",
        "        inv_number = '62' + inv_number\n",
        "        phone_clean.append(int(inv_number))\n",
        "      #print(inv_number)\n",
        "      else:\n",
        "        inv_number = 'Invalid number'\n",
        "        phone_clean.append(inv_number)\n",
        "\n",
        "    return phone_clean"
      ]
    },
    {
      "cell_type": "markdown",
      "metadata": {
        "id": "vVzL-QZH439i"
      },
      "source": [
        "Check function"
      ]
    },
    {
      "cell_type": "code",
      "execution_count": 124,
      "metadata": {
        "colab": {
          "base_uri": "https://localhost:8080/"
        },
        "id": "RlqzRVVi1CwZ",
        "outputId": "a6580cc1-dc63-42dd-e547-feddc88288ff"
      },
      "outputs": [
        {
          "name": "stdout",
          "output_type": "stream",
          "text": [
            "['82123321123', '82321123321', '82456654456', '82789987789', '14045', '82145451145', '884927123947123912841247238471923', '82767685859499485959594949', '85774420596666949', '08428950956']\n",
            "[6282123321123, 6282321123321, 6282456654456, 6282789987789, 'Invalid number', 6282145451145, 'Invalid number', 'Invalid number', 'Invalid number', 6208428950956]\n"
          ]
        }
      ],
      "source": [
        "# DO NOT CHANGE ANYTHING IN THIS CELL\n",
        "# Just run after you finish the function\n",
        "phone_lists = [\n",
        "    '82123321123',\n",
        "    '082321123321',\n",
        "    '+6282-456-654-456',\n",
        "    '+62 82 789 987 789',\n",
        "    '14045',\n",
        "    '82145-451-145',\n",
        "    '884927123947123912841247238471923',\n",
        "    '082767685859499485959594949',\n",
        "    '+6285774420596666949',\n",
        "    '+62 0842 895 0956'\n",
        "]\n",
        "\n",
        "phone_clean = clean_phone_number(phone_lists)\n",
        "\n",
        "print(phone_clean)\n",
        "\n",
        "#[6282123321123, 6282321123321, 6282456654456, 6282789987789, 'Invalid number', 6282145451145]"
      ]
    },
    {
      "cell_type": "code",
      "execution_count": 117,
      "metadata": {},
      "outputs": [
        {
          "name": "stdout",
          "output_type": "stream",
          "text": [
            "['82432234432', '8232', '14032', '82234432234']\n",
            "[6282432234432, 'Invalid number', 'Invalid number', 6282234432234]\n"
          ]
        }
      ],
      "source": [
        "phone_lists = [\n",
        "    '82432234432',\n",
        "    '+62 82 32',\n",
        "    '14032',\n",
        "    '082 234 432 234'\n",
        "]\n",
        "\n",
        "phone_clean = clean_phone_number(phone_lists)\n",
        "print(phone_clean)"
      ]
    },
    {
      "cell_type": "markdown",
      "metadata": {
        "id": "9TLIqzWW59NH"
      },
      "source": [
        "# 5. Find the Nearest Tourism Object\n",
        "---"
      ]
    },
    {
      "cell_type": "markdown",
      "metadata": {
        "id": "LV2KK3dH6mma"
      },
      "source": [
        "You are developing a web application that recommend good place to stay during holiday sessions.\n",
        "\n",
        "A feature loved by most of customer is **finding** the nearest tourism object from a position (could be their hotel).\n",
        "\n",
        "Given that each object/places has an location coordinates (x, y), you can calculate the distance of two objects by\n",
        "\n",
        "$$\n",
        "\\text{dist}(A, B)\n",
        "=\n",
        "\\sqrt{\n",
        "    (A_{x} - B_{x})^{2}\n",
        "    +\n",
        "    (A_{y} - B_{y})^{2}\n",
        "}\n",
        "$$"
      ]
    },
    {
      "cell_type": "markdown",
      "metadata": {
        "id": "slwz-Yj_ARe9"
      },
      "source": [
        "Given a list of tourism object (`tourism_name`), tourism object coordinates (`tourism_coor`), and customer places coordinates (`current_coor`), return the nearest tourism object as a `dict` type."
      ]
    },
    {
      "cell_type": "markdown",
      "metadata": {
        "id": "fpzPnc0hdVOf"
      },
      "source": [
        "Example of calculating distance between two objects\n",
        "\n",
        "- Say we want to calculate the distance between `Taman C` and `Danau D`\n",
        "  - `Taman C` location coordinate: `[46.67, 40.44]`\n",
        "  - `Danau D` location coordinate: `[21.83, 1.94]`\n",
        "- So the distance is\n",
        "\n",
        "$$\n",
        "\\begin{align*}\n",
        "\\text{dist}(C, D)\n",
        "&=\n",
        "\\sqrt{\n",
        "    (C_{x} - D_{x})^{2} + (C_{y} - D_{y})^{2}\n",
        "} \\\\\n",
        "&=\n",
        "\\sqrt{\n",
        "    (46.67 - 21.83)^{2} + (40.44-1.94)^{2}\n",
        "} \\\\\n",
        "&=\n",
        "\\sqrt{\n",
        "    (24.84)^{2} + (38.50)^{2}\n",
        "} \\\\\n",
        "&=\n",
        "\\sqrt{\n",
        "    2099.28\n",
        "} \\\\\n",
        "\\text{dist}(C, D)\n",
        "&= 45.82\n",
        "\\end{align*}\n",
        "$$"
      ]
    },
    {
      "cell_type": "markdown",
      "metadata": {
        "id": "vfi-x8MQAqa4"
      },
      "source": [
        "Input example\n",
        "\n",
        "```python\n",
        "tourism_name = [\n",
        "    'Pantai A',\n",
        "    'Jembatan B',\n",
        "    'Taman C',\n",
        "    'Danau D',\n",
        "    'Perpustakaan E',\n",
        "    'Mall F',\n",
        "    'Monumen G',\n",
        "    'Taman Hutan H',\n",
        "    'Air terjun I',\n",
        "    'Gunung J'\n",
        "]\n",
        "\n",
        "tourism_coor = [\n",
        "    [-34.93, -31.23],\n",
        "    [-77.90, 79.90],\n",
        "    [46.67, 40.44],\n",
        "    [21.83, 1.94],\n",
        "    [41.77, -63.44],\n",
        "    [-1.10, -47.22],\n",
        "    [68.81, 64.65],\n",
        "    [-21.23, 22.03],\n",
        "    [68.30, -69.73],\n",
        "    [12.82, 30.75],\n",
        "]\n",
        "\n",
        "current_coor = [-2.21, 3.15]\n",
        "```"
      ]
    },
    {
      "cell_type": "markdown",
      "metadata": {
        "id": "4bvK9bwzGj--"
      },
      "source": [
        "Output example\n",
        "\n",
        "```\n",
        "{'object': 'Danau D', 'dist': 24.07043206924213}\n",
        "```"
      ]
    },
    {
      "cell_type": "markdown",
      "metadata": {
        "id": "74AgKepiGlpK"
      },
      "source": [
        "Write function"
      ]
    },
    {
      "cell_type": "code",
      "execution_count": 27,
      "metadata": {
        "colab": {
          "base_uri": "https://localhost:8080/"
        },
        "id": "ZBffCbsp6Afc",
        "outputId": "b4ee63f3-30db-4d6c-dd49-3404c5b41a7c"
      },
      "outputs": [
        {
          "name": "stdout",
          "output_type": "stream",
          "text": [
            "[119.14821777936926]\n"
          ]
        }
      ],
      "source": [
        "# DO NOT CHANGE THE NAME & INPUT OF THE FUNCTION\n",
        "# Function to find distance between 2 object\n",
        "def calc_dist(A, B):\n",
        "    '''\n",
        "    Function to calculate distance between two objects\n",
        "\n",
        "    Parameters\n",
        "    ----------\n",
        "    A : list\n",
        "        The coordinates of object A\n",
        "\n",
        "    B : list\n",
        "        The coordinates of object B\n",
        "\n",
        "    Returns\n",
        "    -------\n",
        "    dist : float\n",
        "        The distance between A & B\n",
        "    '''\n",
        "    dist = []\n",
        "\n",
        "\n",
        "    # Menghitung jarak antara taman object A dengan object B\n",
        "\n",
        "    # menghitung kordinat x\n",
        "    squared_x = (A[0] - B[0]) ** 2\n",
        "\n",
        "    # menghitung kordinat y\n",
        "    squared_y = (A[1] - B[1]) ** 2\n",
        "\n",
        "    # lalu mendapatkan nilai distance\n",
        "    distance = (squared_x + squared_y) ** 0.5\n",
        "    dist.append(distance)\n",
        "\n",
        "    return dist\n",
        "\n",
        "A = [-34.93, -31.23]\n",
        "\n",
        "B = [-77.90, 79.90]\n",
        "\n",
        "#print(A[0]) # -34.93 Ax\n",
        "#print(A[1]) # -31.23 Ay\n",
        "\n",
        "#print(B[0]) # -77.9 Bx\n",
        "#print(B[1]) # 79.9 By\n",
        "\n",
        "calculate_distance = calc_dist(A, B)\n",
        "print(calculate_distance)"
      ]
    },
    {
      "cell_type": "code",
      "execution_count": 25,
      "metadata": {
        "id": "S-s3cwAvJQwL"
      },
      "outputs": [],
      "source": [
        "# DO NOT CHANGE THE NAME & INPUT OF THE FUNCTION\n",
        "def find_nearest(current_coor, tourism_coor, tourism_name):\n",
        "    '''\n",
        "    Function to find nearest tourism object near current coordinates\n",
        "\n",
        "    Parameters\n",
        "    ----------\n",
        "    current_coor : list\n",
        "        The guest current coordinate\n",
        "\n",
        "    tourism_coor : list\n",
        "        The tourism object coordinates\n",
        "\n",
        "    toursim_name : list\n",
        "        The tourism object name\n",
        "\n",
        "    Returns\n",
        "    -------\n",
        "    nearest_object : dict\n",
        "        The dictionary of nearest tourism object\n",
        "    '''\n",
        "    # membuat attribut penampung dari hasil kalkulasi distance x dan y diakarkan\n",
        "    distances = []\n",
        "\n",
        "    # membuat iterasi element pada tourism_coor\n",
        "    for point in tourism_coor:\n",
        "\n",
        "        # lalu membuat kalkulasi kordinat x (tourism_coor) dengan kordinat user y (current_coor) dan meiterasikannya terhadap semua element\n",
        "        squared_diff_x = (point[0] - current_coor[0]) ** 2\n",
        "\n",
        "        # lalu membuat kalkulasi kordinat y (tourism_coor) dengan kordinat user y (current_coor) dan meiterasikannya terhadap semua element\n",
        "        squared_diff_y = (point[1] - current_coor[1]) ** 2\n",
        "\n",
        "        # lalu melanjutkan formula yang untuk mencari distance hasil kordinat x dan y ditambahkan lalu diakarkan\n",
        "        distance = (squared_diff_x + squared_diff_y) ** 0.5\n",
        "\n",
        "        # append hasil kalkulasi distance kedalam attribut distances\n",
        "        distances.append(distance)\n",
        "\n",
        "    # lalu mencari nilai mana yang paling kecil min() pada attribute distances, karna logika saya jika nilai kordinatnya paling kecil berarti lokasinya paling deket\n",
        "    # dari tempat si usernya\n",
        "    min_distance = min(distances)\n",
        "\n",
        "    # lalu kita mencari index dari data yang paling minimum didapatkan dari data distances\n",
        "    min_index = distances.index(min_distance)\n",
        "\n",
        "    # lalu membuat dictionary untuk menampung data key object, dist, dan value yaitu dari data tourism_name yang kordinatnya paling dekat/minimum\n",
        "    # dan value berisikan nilai jarak dari titik tempat wisata ke tempat user\n",
        "    nearest_object = {\n",
        "        'object': str(tourism_name[min_index]),\n",
        "        'dist': min_distance\n",
        "    }\n",
        "\n",
        "    # mengembalikan nilai nearest_object ke function find_nearest\n",
        "    return nearest_object"
      ]
    },
    {
      "cell_type": "markdown",
      "metadata": {
        "id": "ER89qq4IWiv2"
      },
      "source": [
        "Check function"
      ]
    },
    {
      "cell_type": "code",
      "execution_count": 26,
      "metadata": {
        "colab": {
          "base_uri": "https://localhost:8080/"
        },
        "id": "cEx24_VoWfsy",
        "outputId": "16e53306-920a-4624-f5b3-d472f01c22ff"
      },
      "outputs": [
        {
          "name": "stdout",
          "output_type": "stream",
          "text": [
            "{'object': 'Danau D', 'dist': 24.07043206924213}\n"
          ]
        }
      ],
      "source": [
        "# DO NOT CHANGE ANYTHING IN THIS CELL\n",
        "# Just run after you finish the function\n",
        "tourism_name = [\n",
        "    'Pantai A',\n",
        "    'Jembatan B',\n",
        "    'Taman C',\n",
        "    'Danau D',\n",
        "    'Perpustakaan E',\n",
        "    'Mall F',\n",
        "    'Monumen G',\n",
        "    'Taman Hutan H',\n",
        "    'Air terjun I',\n",
        "    'Gunung J'\n",
        "]\n",
        "\n",
        "tourism_coor = [\n",
        "    [-34.93, -31.23],\n",
        "    [-77.90, 79.90],\n",
        "    [46.67, 40.44],\n",
        "    [21.83, 1.94],\n",
        "    [41.77, -63.44],\n",
        "    [-1.10, -47.22],\n",
        "    [68.81, 64.65],\n",
        "    [-21.23, 22.03],\n",
        "    [68.30, -69.73],\n",
        "    [12.82, 30.75],\n",
        "]\n",
        "\n",
        "current_coor = [-2.21, 3.15]\n",
        "\n",
        "nearest_object = find_nearest(current_coor, tourism_coor, tourism_name)\n",
        "print(nearest_object)"
      ]
    },
    {
      "cell_type": "markdown",
      "metadata": {
        "id": "M5K-F970XVAn"
      },
      "source": [
        "# 6. Find Size of People in Some Groups\n",
        "---"
      ]
    },
    {
      "cell_type": "markdown",
      "metadata": {
        "id": "PAsUA1bzXq78"
      },
      "source": [
        "You are in a research team. Your product team asked you to help their research agenda, i.e. performing a Focus Group Discussion (FGD).\n",
        "\n",
        "The product team need to distribute the user equally to each group. Please help the product team."
      ]
    },
    {
      "cell_type": "markdown",
      "metadata": {
        "id": "BpBvDLYqYgWq"
      },
      "source": [
        "Your tasked is to divide $n$ people as equal as possible to $k$ groups."
      ]
    },
    {
      "cell_type": "markdown",
      "metadata": {
        "id": "00hn5h_oY-7c"
      },
      "source": [
        "Input example\n",
        "\n",
        "```python\n",
        "n = 14\n",
        "k = 3\n",
        "```"
      ]
    },
    {
      "cell_type": "markdown",
      "metadata": {
        "id": "vuJFC7dYZEHb"
      },
      "source": [
        "Output example\n",
        "\n",
        "```\n",
        "[5, 5, 4]\n",
        "```"
      ]
    },
    {
      "cell_type": "markdown",
      "metadata": {
        "id": "btB3Dz9wZJdg"
      },
      "source": [
        "Write function"
      ]
    },
    {
      "cell_type": "code",
      "execution_count": 19,
      "metadata": {
        "id": "wHtoqo7DWtMw"
      },
      "outputs": [],
      "source": [
        "# DO NOT CHANGE THE NAME & INPUT OF THE FUNCTION\n",
        "def distribute_user(n, k):\n",
        "    '''\n",
        "    Function to distribute n user equally to k class\n",
        "\n",
        "    Parameters\n",
        "    ----------\n",
        "    n : int\n",
        "        The number of people to distribute\n",
        "\n",
        "    k : int\n",
        "        The number of group\n",
        "\n",
        "    Returns\n",
        "    -------\n",
        "    group_size : list\n",
        "        The list of group size (must be integer) and shape of (k)\n",
        "    '''\n",
        "\n",
        "    # membuat variable tampungan jumlah orang pada setiap group\n",
        "    group_size = []\n",
        "\n",
        "    # Agar kita dapat membagi masing2 peserta kedalam 3 grup,\n",
        "    # perlu membagikan masing2 dalam 1 grup sejumlah 14 // 3 yaitu 4, maka berarti 4, 4, 4\n",
        "    # karna 4, 4, 4 maka sisa 2 (n % k) agar nilainya 14. maka kita masih punya sisa 2 angka lagi,\n",
        "    # kita dapat memasukan 1, 1 kedalam range 0, dan 1.\n",
        "    # ---------------------------------------------------\n",
        "    # untuk melakukan hal tsb,\n",
        "    # pertama jumlah grup kita looping sebanyak sequence/range dari k (3) yaitu, 0, 1, 2\n",
        "    # lalu, kita membuat kondisi jika jumlah sequence (0, 1, 2) < dari 2 (n % k)\n",
        "    # akan menambahkan sebanyak orang n // k yaitu 4 ke masing2 group 0, 1, 2,\n",
        "    # karena ada sisa 2, maka kita tambahkan + 1 agar dapat mengisikan sisanya.\n",
        "    # lalu karna sequence terakhir yaitu 2 tidak lebih kecil dari n % 2 yaitu 2.\n",
        "    # maka kita hanya memasukkan nilai n // k = 4 kedalam range terakhir (2).\n",
        "    for i in range(k):\n",
        "        if i < n % k:\n",
        "            group_size.append(n // k + 1)\n",
        "        else:\n",
        "            group_size.append(n // k)\n",
        "\n",
        "    # mengembalikan jumlah orang yang didapat kedalam class distribute_user\n",
        "    return group_size"
      ]
    },
    {
      "cell_type": "markdown",
      "metadata": {
        "id": "U2XflSGjZx4Q"
      },
      "source": [
        "Check function"
      ]
    },
    {
      "cell_type": "code",
      "execution_count": 20,
      "metadata": {
        "colab": {
          "base_uri": "https://localhost:8080/"
        },
        "id": "nOO1IlWnZwuN",
        "outputId": "bd8baba5-2e36-420c-9c9d-a2e43c1e1e6a"
      },
      "outputs": [
        {
          "name": "stdout",
          "output_type": "stream",
          "text": [
            "[5, 5, 4]\n"
          ]
        }
      ],
      "source": [
        "# DO NOT CHANGE ANYTHING IN THIS CELL\n",
        "# Just run after you finish the function\n",
        "n = 14\n",
        "k = 3\n",
        "\n",
        "group_size = distribute_user(n, k)\n",
        "print(group_size)"
      ]
    },
    {
      "cell_type": "markdown",
      "metadata": {
        "id": "zSIPgPCNpTvP"
      },
      "source": [
        "# 7. Summarize Data with OOP\n",
        "---"
      ]
    },
    {
      "cell_type": "markdown",
      "metadata": {
        "id": "ru2vSA8spXye"
      },
      "source": [
        "Write a Class that can summarize the given data\n",
        "\n",
        "- Named the class with `Data`\n",
        "- Initialize the object with no input\n",
        "- `Data` has several attributes:\n",
        "  - `data` --> return the input data\n",
        "  - `size` --> return the size of the input data\n",
        "- `Data` has several methods:\n",
        "  - `read_data(data)` --> to read the input data\n",
        "  - `find_total()` --> return the total sum of the input data\n",
        "  - `find_average()` --> return the average of the input data"
      ]
    },
    {
      "cell_type": "markdown",
      "metadata": {
        "id": "aL7NFr_tqFPn"
      },
      "source": [
        "Input example\n",
        "\n",
        "```python\n",
        "data = [0, 1, 2, 3, 4, 5, 6, 7, 8, 9]\n",
        "\n",
        "data_obj = Data()\n",
        "data_obj.read_data(data)\n",
        "```\n"
      ]
    },
    {
      "cell_type": "markdown",
      "metadata": {
        "id": "8mjZi9c-qPab"
      },
      "source": [
        "Output example\n",
        "\n",
        "```python\n",
        "print(data_obj.data)\n",
        "print(data_obj.size)\n",
        "print(data_obj.find_total())\n",
        "print(data_obj.find_average())\n",
        "```\n",
        "\n",
        "```\n",
        "[0, 1, 2, 3, 4, 5, 6, 7, 8, 9]\n",
        "10\n",
        "45\n",
        "4.5\n",
        "```\n",
        "\n"
      ]
    },
    {
      "cell_type": "markdown",
      "metadata": {
        "id": "tsYJI_oDqvZ2"
      },
      "source": [
        "Write class"
      ]
    },
    {
      "cell_type": "code",
      "execution_count": 17,
      "metadata": {
        "id": "AvGsXD5qqyO3"
      },
      "outputs": [],
      "source": [
        "# DO NOT CHANGE THE NAME & INPUT OF THE CLASS\n",
        "class Data:\n",
        "\n",
        "    # membuat Instance attribute data dan size untuk\n",
        "    # menampung inputan data, dan panjang data inputan\n",
        "    data = 0\n",
        "    size = 0\n",
        "\n",
        "    # constructor method\n",
        "    def __init__(self):\n",
        "        pass\n",
        "\n",
        "    # Membuat method untuk membaca data dan menyimpannya ke\n",
        "    # Instance attribute self.data dan self.size agar dapat\n",
        "    # diaccess oleh method lain\n",
        "    def read_data(self, data):\n",
        "        self.data = data\n",
        "        self.size = len(self.data)\n",
        "\n",
        "    # Membuat method untuk mencari total nilai dari deret angka pada list data\n",
        "    # lalu mengembalikan nilainya pada fungsi return\n",
        "    def find_total(self):\n",
        "        sum_data = sum(self.data)\n",
        "\n",
        "        return sum_data\n",
        "\n",
        "    # Membuat method mencari rata-rata,\n",
        "    # menggunakan hasil dari method find_total() yaitu total penjumlahan,\n",
        "    # dibagi dengan berapa jumlah panjang nilai yang ada\n",
        "    def find_average(self):\n",
        "        average = self.find_total() / self.size\n",
        "\n",
        "        return average"
      ]
    },
    {
      "cell_type": "markdown",
      "metadata": {
        "id": "OHWA4SunrI9_"
      },
      "source": [
        "Check function"
      ]
    },
    {
      "cell_type": "code",
      "execution_count": 18,
      "metadata": {
        "colab": {
          "base_uri": "https://localhost:8080/"
        },
        "id": "QZC3Wbw2rNdL",
        "outputId": "b98e3946-4f9a-478b-8757-e766ba158b9c"
      },
      "outputs": [
        {
          "name": "stdout",
          "output_type": "stream",
          "text": [
            "[0, 1, 2, 3, 4, 5, 6, 7, 8, 9]\n",
            "10\n",
            "45\n",
            "4.5\n"
          ]
        }
      ],
      "source": [
        "# DO NOT CHANGE ANYTHING IN THIS CELL\n",
        "# Just run after you finish the function\n",
        "data = [0, 1, 2, 3, 4, 5, 6, 7, 8, 9]\n",
        "\n",
        "try:\n",
        "    data_obj = Data()\n",
        "    data_obj.read_data(data)\n",
        "\n",
        "    print(data_obj.data)\n",
        "    print(data_obj.size)\n",
        "    print(data_obj.find_total())\n",
        "    print(data_obj.find_average())\n",
        "except Exception as e:\n",
        "    print('There is something wrong')"
      ]
    },
    {
      "cell_type": "markdown",
      "metadata": {
        "id": "EAfzCwRWbEKo"
      },
      "source": [
        "# 8. User with Double Promo\n",
        "---"
      ]
    },
    {
      "cell_type": "markdown",
      "metadata": {
        "id": "-KEhH3TtbddB"
      },
      "source": [
        "You are on a marketing team. Your team have 2 types of promo, `promo A` and `promo B`, that user can get **only one of them**.\n",
        "\n",
        "You suspect that there are some users have double promo. Given a `user_ID`, `promo_A_status`, and `promo_B_status`, create a function that return `user_ID` whose have double promo."
      ]
    },
    {
      "cell_type": "markdown",
      "metadata": {
        "id": "IeTYZB0kcFV-"
      },
      "source": [
        "Input example\n",
        "\n",
        "```python\n",
        "user_ID = ['01', '02', '03', '04', '05', '06', '07']\n",
        "promo_A_status = [1, 0, 0, 1, 1, 0, 1]\n",
        "promo_B_status = [0, 0, 1, 1, 0, 1, 1]\n",
        "```"
      ]
    },
    {
      "cell_type": "markdown",
      "metadata": {
        "id": "eTjKZysDQlZj"
      },
      "source": [
        "04 dan 07"
      ]
    },
    {
      "cell_type": "markdown",
      "metadata": {
        "id": "fjyIrBg8cWQh"
      },
      "source": [
        "Output example\n",
        "\n",
        "```\n",
        "['04', '07']\n",
        "```"
      ]
    },
    {
      "cell_type": "markdown",
      "metadata": {
        "id": "x-pyNIUicYrK"
      },
      "source": [
        "Write function"
      ]
    },
    {
      "cell_type": "code",
      "execution_count": 15,
      "metadata": {
        "id": "-inqZtScbLfk"
      },
      "outputs": [],
      "source": [
        "# DO NOT CHANGE THE NAME & INPUT OF THE FUNCTION\n",
        "def find_double_promo(user_ID, promo_A_status, promo_B_status):\n",
        "    '''\n",
        "    Find user ID that has double promo\n",
        "\n",
        "    Parameters\n",
        "    ----------\n",
        "    user_ID: list\n",
        "        List of user ID\n",
        "\n",
        "    promo_A_status: list\n",
        "        List of user ID that get promo A.\n",
        "        1 = get promo\n",
        "        0 = did not get promo\n",
        "\n",
        "    promo_B_status: list\n",
        "        List of user ID that get promo B.\n",
        "        1 = get promo\n",
        "        0 = did not get promo\n",
        "\n",
        "    Returns\n",
        "    -------\n",
        "    double_ID: list\n",
        "        List of user that get double promo.\n",
        "        If None, return []\n",
        "    '''\n",
        "\n",
        "    # membuat variable penampung untuk user dgn double promo, promo A, promo B\n",
        "    double_ID = []\n",
        "\n",
        "    promo_A_ID = []\n",
        "    promo_B_ID = []\n",
        "\n",
        "    # membuat for loop agar list user_ID dapat dicheck dgn masing2 list promo A dan B\n",
        "    for index in range(len(user_ID)):\n",
        "\n",
        "        # check pertama apabila pada list promo A dan B nilainya 1 maka double promo\n",
        "        if promo_A_status[index] == 1 and promo_B_status[index] == 1:\n",
        "            double_ID.append(user_ID[index])\n",
        "\n",
        "        # check kedua adalah apabila list promo A nilainya 1 maka dapat promo A\n",
        "        elif promo_A_status[index] == 1:\n",
        "            promo_A_ID.append(user_ID[index])\n",
        "\n",
        "        # check ketiga adalah apabila list promo B nilanya 1 maka dapat promo B\n",
        "        elif promo_B_status[index] == 1:\n",
        "            promo_B_ID.append(user_ID[index])\n",
        "\n",
        "\n",
        "    return double_ID\n"
      ]
    },
    {
      "cell_type": "markdown",
      "metadata": {
        "id": "MIZIch6IcYLC"
      },
      "source": [
        "Check function"
      ]
    },
    {
      "cell_type": "code",
      "execution_count": 16,
      "metadata": {
        "colab": {
          "base_uri": "https://localhost:8080/"
        },
        "id": "tgwAXxZedj5p",
        "outputId": "50ab312a-a759-42da-b57c-d42a996b29cc"
      },
      "outputs": [
        {
          "name": "stdout",
          "output_type": "stream",
          "text": [
            "['04', '07']\n"
          ]
        }
      ],
      "source": [
        "# DO NOT CHANGE ANYTHING IN THIS CELL\n",
        "# Just run after you finish the function\n",
        "user_ID = ['01', '02', '03', '04', '05', '06', '07']\n",
        "promo_A_status = [1, 0, 0, 1, 1, 0, 1]\n",
        "promo_B_status = [0, 0, 1, 1, 0, 1, 1]\n",
        "\n",
        "double_ID = find_double_promo(user_ID, promo_A_status, promo_B_status)\n",
        "print(double_ID)"
      ]
    },
    {
      "cell_type": "markdown",
      "metadata": {
        "id": "fI9XOK7heIDc"
      },
      "source": [
        "# 9. Find Duplicate Person in a Research\n",
        "---"
      ]
    },
    {
      "cell_type": "markdown",
      "metadata": {
        "id": "G52VxxpveQzk"
      },
      "source": [
        "The marketing team & sales want to make sure that there is no duplicate person in the data.\n",
        "\n",
        "Given a list of people ID & its name, find people ID & names that has similar names."
      ]
    },
    {
      "cell_type": "markdown",
      "metadata": {
        "id": "1ivpjGi4fo0r"
      },
      "source": [
        "Input example\n",
        "\n",
        "``` python\n",
        "people_ID = ['01', '02', '03', '04', '05', '06', '07']\n",
        "people_name = [\n",
        "    'Budi santoso',\n",
        "    'Pramono Setiadi',\n",
        "    'Rijal',\n",
        "    'Dedi setiawan',\n",
        "    'rijal',\n",
        "    'Alesha Nur',\n",
        "    'Dedi Setiawan'\n",
        "]\n",
        "```"
      ]
    },
    {
      "cell_type": "markdown",
      "metadata": {
        "id": "_qlKop7agC-D"
      },
      "source": [
        "Output example\n",
        "\n",
        "```\n",
        "[['03', 'Rijal'], ['04', 'Dedi setiawan'], ['05', 'rijal'], ['07', 'Dedi Setiawan']]\n",
        "```"
      ]
    },
    {
      "cell_type": "markdown",
      "metadata": {
        "id": "BR-6ZCXWgUFf"
      },
      "source": [
        "Write function"
      ]
    },
    {
      "cell_type": "code",
      "execution_count": 13,
      "metadata": {
        "id": "V6NVW9RweOi6"
      },
      "outputs": [],
      "source": [
        "# DO NOT CHANGE THE NAME & INPUT OF THE FUNCTION\n",
        "def find_duplicates(people_ID, people_name):\n",
        "    '''\n",
        "    Function to find duplicate person\n",
        "\n",
        "    Parameters\n",
        "    ----------\n",
        "    people_ID : List\n",
        "        list of people ID\n",
        "\n",
        "    people_name : list\n",
        "        list of people name\n",
        "\n",
        "    Returns\n",
        "    -------\n",
        "    people_duplicate : list\n",
        "        List of duplicate people\n",
        "    '''\n",
        "\n",
        "    # Membuat dictionary penampung untuk menyimpan data people_ID, people_name\n",
        "    # key nya berupa nama yg sdh di lower(), agar nantinya bisa di find duplicate,\n",
        "    # dan juga dapat diappend dengan data yg terdeteksi lower namanya sama seperti rijal dan dedi,\n",
        "    # dan valuenya adalah hasil iterasi dan checking condition lowercase_name.\n",
        "    name_dict = {}\n",
        "\n",
        "    # Membuat looping dengan parameter enumerate people_name dikarenakan akan dictionary\n",
        "    # index sebagai key, dan name sebagai value nama dari list people_name\n",
        "    for index, name in enumerate(people_name):\n",
        "\n",
        "        # Lalu melakukan pengecilan semua karakter dr value name people_name agar dpt di find duplicate\n",
        "        lowercase_name = name.lower()\n",
        "        lowercase_name = ' '.join(lowercase_name.split())\n",
        "        # lalu melakukan checking jika lowercase_name ada didalam dict name_dict,\n",
        "        # akan append berupa value [people_ID[index], people_name[index]]\n",
        "        # dikarenakan belum ada value lowercase_name, maka akan melakukan pengisian value pada checking else dahulu\n",
        "        # setelah itu dikarenakan checking lowercase_name sudah ada, akan melakukan append kembali\n",
        "        # value dari [people_ID[index], people_name[index]] yang lebih ke key pada dictionary name_dict\n",
        "        if lowercase_name in name_dict:\n",
        "            name_dict[lowercase_name].append([people_ID[index], people_name[index]])\n",
        "        else:\n",
        "            name_dict[lowercase_name] = [[people_ID[index], people_name[index]]]\n",
        "\n",
        "    # list penampung untuk hasil terakhir\n",
        "    people_duplicate = []\n",
        "\n",
        "    # Untuk mendapatkan value people_ID dan people_name mana yang duplikat\n",
        "    # kita melakukan looping .items pada dictionary name_dict agar mendapatkan value dari dictnya\n",
        "    for key, value in name_dict.items():\n",
        "\n",
        "        # Lalu melakukan checking jika ada panjang data yg lebih dari 1 pada value\n",
        "        # Maka akan melakukan extend/append kedalam list tampungan people_duplicate\n",
        "        # menggunakan extend dikarenakan jika menggunakan append, tidak bisa disorted sesuai output\n",
        "        if len(value) > 1:\n",
        "            people_duplicate.extend(value)\n",
        "\n",
        "    # melakukan Sort agar sesuai dengan sequence data\n",
        "    people_duplicate = sorted(people_duplicate)\n",
        "\n",
        "    return people_duplicate\n"
      ]
    },
    {
      "cell_type": "markdown",
      "metadata": {
        "id": "sIsOqO5Hhlfa"
      },
      "source": [
        "Check function"
      ]
    },
    {
      "cell_type": "code",
      "execution_count": 14,
      "metadata": {
        "colab": {
          "base_uri": "https://localhost:8080/"
        },
        "id": "Hvf5_shihkQX",
        "outputId": "9142c9a6-e139-47fe-cd7a-785175d3a222"
      },
      "outputs": [
        {
          "name": "stdout",
          "output_type": "stream",
          "text": [
            "[['03', 'Rijal'], ['04', 'Dedi setiawan'], ['05', 'rijal'], ['07', 'Dedi Setiawan']]\n"
          ]
        }
      ],
      "source": [
        "# DO NOT CHANGE ANYTHING IN THIS CELL\n",
        "# Just run after you finish the function\n",
        "people_ID = ['01', '02', '03', '04', '05', '06', '07']\n",
        "people_name = [\n",
        "    'Budi santoso',\n",
        "    'Pramono Setiadi',\n",
        "    'Rijal',\n",
        "    'Dedi setiawan',\n",
        "    'rijal',\n",
        "    'Alesha Nur',\n",
        "    'Dedi Setiawan'\n",
        "]\n",
        "\n",
        "people_duplicate = find_duplicates(people_ID, people_name)\n",
        "print(people_duplicate)"
      ]
    },
    {
      "cell_type": "markdown",
      "metadata": {
        "id": "8nLTA3CZkOwn"
      },
      "source": [
        "# 10. Time to Transport Logistic\n",
        "---"
      ]
    },
    {
      "cell_type": "markdown",
      "metadata": {
        "id": "LS3tNJ-wkf04"
      },
      "source": [
        "You are a data analyst in a transport logistic. You need to recommend the logistic driver a set of route so that they can deliver the goods efficiently.\n",
        "\n",
        "Simply, you can create a function to calculate time needed for the driver to follow several set of routes from an initial position and comeback again."
      ]
    },
    {
      "cell_type": "markdown",
      "metadata": {
        "id": "lpRhmdPMfp7z"
      },
      "source": [
        "We already have a look-up table that shows the duration needed for moving between two locations\n",
        "\n",
        "**Durations Table**\n",
        "\n",
        "<center>\n",
        "\n",
        "||A|B|C|D|E|\n",
        "|:-:|:-:|:-:|:-:|:-:|:-:|\n",
        "|A| 0 | 3 | 5 | 10 | 4 |\n",
        "|B| 3 | 0 | 6 | 8 | 9 |\n",
        "|C| 5 | 6 | 0 | 7 | 2 |\n",
        "|D| 10 | 8 | 7 | 0 | 1 |\n",
        "|E| 4 | 9 | 2 | 1 | 0 |"
      ]
    },
    {
      "cell_type": "markdown",
      "metadata": {
        "id": "fP4JXfOqgQ9O"
      },
      "source": [
        "Say, you want to know the duration of city `B` to city `E`,\n",
        "\n",
        "**First**, `B` is the starting point, so go to row `B`\n",
        "\n",
        "||A|B|C|D|E|\n",
        "|:-:|:-:|:-:|:-:|:-:|:-:|\n",
        "|B| 3 | 0 | 6 | 8 | 9 |\n",
        "\n",
        "<br>\n",
        "\n",
        "**Then**, `E` is the destination, so from the selected row, go to column `E`\n",
        "\n",
        "||A|B|C|D|E|\n",
        "|:-:|:-:|:-:|:-:|:-:|:-:|\n",
        "|B|  |  |  |  | 9 |\n",
        "\n",
        "<br>\n",
        "\n",
        "**Finally**, the duration needed to go from `B` to `E` is 9"
      ]
    },
    {
      "cell_type": "markdown",
      "metadata": {
        "id": "PcqS5JDjlB57"
      },
      "source": [
        "To calculate it easily in Python, we turn the duration table into this list\n",
        "\n",
        "```python\n",
        "duration_table = [\n",
        "    [0, 3, 5, 10, 4],\n",
        "    [3, 0, 6, 8, 9],\n",
        "    [5, 6, 0, 7, 2],\n",
        "    [10, 8, 7, 0, 1],\n",
        "    [4, 9, 2, 1, 0]\n",
        "]\n",
        "```\n",
        "\n",
        "Say you want to measure duration from city `B` to `E`, then the duration would be `duration_table[1][4]` or `duration_table[4][1]`"
      ]
    },
    {
      "cell_type": "code",
      "execution_count": 10,
      "metadata": {
        "colab": {
          "base_uri": "https://localhost:8080/"
        },
        "id": "VQaSlT_SmG-m",
        "outputId": "f4c45985-4e15-46b4-e232-e385ad37cadc"
      },
      "outputs": [
        {
          "data": {
            "text/plain": [
              "(9, 9)"
            ]
          },
          "execution_count": 10,
          "metadata": {},
          "output_type": "execute_result"
        }
      ],
      "source": [
        "# Run this code\n",
        "# Don't change anything\n",
        "duration_table = [\n",
        "    [0, 3, 5, 10, 4],\n",
        "    [3, 0, 6, 8, 9],\n",
        "    [5, 6, 0, 7, 2],\n",
        "    [10, 8, 7, 0, 1],\n",
        "    [4, 9, 2, 1, 0]\n",
        "]\n",
        "\n",
        "duration_table[1][4], duration_table[4][1]"
      ]
    },
    {
      "cell_type": "markdown",
      "metadata": {
        "id": "FIbn_sYchcWg"
      },
      "source": [
        "We usually calculate the duration needed from a set of route, e.g. `ABCDEBE`.\n",
        "\n",
        "The step to calculate the total duration needed to move according to the route (`ABCDEBE`) and get back to the original position (in this case is `A`)\n",
        "\n",
        "**First**, Extract all the pair of destination inside the route `ABCDEBE`\n",
        "\n",
        "|Route|Time|\n",
        "|:-:|:-:|\n",
        "|`A -> B`||\n",
        "|`B -> C`||\n",
        "|`C -> D`||\n",
        "|`D -> E`||\n",
        "|`E -> B`||\n",
        "|`B -> E`||\n",
        "|`E -> A`||\n",
        "\n",
        "<br>\n",
        "\n",
        "**Next**, obtain all the route duration from the destination table\n",
        "\n",
        "|Route|Time|\n",
        "|:-:|:-:|\n",
        "|`A -> B`|3|\n",
        "|`B -> C`|6|\n",
        "|`C -> D`|7|\n",
        "|`D -> E`|1|\n",
        "|`E -> B`|9|\n",
        "|`B -> E`|9|\n",
        "|`E -> A`|4|\n",
        "\n",
        "<br>\n",
        "\n",
        "**Finally**, add all the time\n",
        "\n",
        "$$\n",
        "\\begin{align*}\n",
        "\\text{total time} &= 3 + 6 + 7 + 1 + 9 + 9 + 4 \\\\\n",
        "\\text{total time} &= 39 \\\\\n",
        "\\end{align*}\n",
        "$$\n"
      ]
    },
    {
      "cell_type": "markdown",
      "metadata": {
        "id": "eqje-enZmTbc"
      },
      "source": [
        "Input example:\n",
        "\n",
        "```python\n",
        "route = 'ABCDEBE'\n",
        "```"
      ]
    },
    {
      "cell_type": "markdown",
      "metadata": {
        "id": "OPTzjkJomZ5S"
      },
      "source": [
        "Output example\n",
        "```\n",
        "39\n",
        "```"
      ]
    },
    {
      "cell_type": "markdown",
      "metadata": {
        "id": "r1XLkrH2mu-O"
      },
      "source": [
        "Write function"
      ]
    },
    {
      "cell_type": "code",
      "execution_count": 11,
      "metadata": {
        "id": "uRA_xwz1kcQO"
      },
      "outputs": [],
      "source": [
        "# DO NOT CHANGE THE NAME & INPUT OF THE FUNCTION\n",
        "def calculate_duration(route, duration_table):\n",
        "    '''\n",
        "    Function to calculate travel duration from a given route and back to the origin\n",
        "\n",
        "    Parameters\n",
        "    ----------\n",
        "    route : str\n",
        "        The route\n",
        "\n",
        "    Returns\n",
        "    -------\n",
        "    total_time : int\n",
        "        The travel duration\n",
        "    '''\n",
        "    # agar kita dapat memasangkan masing2 row dan column pada tabel dengan ABCDE\n",
        "    # kita dapat membuat label ABCDE dengan mengambil index dari route\n",
        "    # pertama kita looping menggunakan enumerate agar dapat mengambil index dan value\n",
        "    # lalu kita masukkan data berupa value pada route menjadi Key dan Index pada route.\n",
        "    # data ini dijadikan dalam bentuk dictionary\n",
        "    # value pada dict ini digunakan untuk mencari data pada duration_table sebagai index rows dan cols\n",
        "    label_to_index = {}\n",
        "    #res = []\n",
        "\n",
        "    for index, value in enumerate(route):\n",
        "        if value not in label_to_index:\n",
        "            label_to_index[value] = index\n",
        "        # else:\n",
        "            # res.append(index)\n",
        "\n",
        "    # print(label_to_index)\n",
        "\n",
        "\n",
        "    # Pada step ini kita akan menjadikan inputan route = 'ABCDEBE',\n",
        "    # menjadi 2 karakter masing2 didalam list,\n",
        "    # agar nantinya masing2 2 karakter tersebut dapat dicocokan dgn dict label_to_index\n",
        "    # dan mendapatkan nilai index agar dipakai untuk mencari data pada duration_table\n",
        "    pairs = []\n",
        "\n",
        "    for i in range(len(route)):\n",
        "        pair = [route[i], route[(i + 1) % len(route)]]\n",
        "        pairs.append(pair)\n",
        "\n",
        "    # output\n",
        "    # [['A', 'B'], ['B', 'C'], ['C', 'D'], ['D', 'E'], ['E', 'B'], ['B', 'E'], ['E', 'A']]\n",
        "\n",
        "\n",
        "    # Lalu pada tahap ini kita akan me-iterasikan masing2 2 karakter tadi\n",
        "    # dan mengambil nilai index key dictionary di label_to_index diatas\n",
        "    # Misalkan jika iterasi pertama yaitu A maka akan mencocokan dengan key dictionary\n",
        "    # 0 dan jika key B menjadi 1\n",
        "    pair_values = {}\n",
        "    values = []\n",
        "\n",
        "    for pair in pairs:\n",
        "        # print(pair)\n",
        "        rows, cols = pair\n",
        "        rows_index = label_to_index[rows]\n",
        "        # print(rows_index)\n",
        "        cols_index = label_to_index[cols]\n",
        "        # print(cols_index)\n",
        "\n",
        "        # lalu pada step ini mencari data yang ada pada matrix duration_table\n",
        "        # dengan index yang sudah dicari pada variable string route yaitu 'ABCDEBE'\n",
        "        # output value 3,6,7,1,9,9,4\n",
        "        value = duration_table[rows_index][cols_index]\n",
        "\n",
        "        # ini opsional apabila ingin mengembalikan data dengan 2 karakter sebagai key,\n",
        "        # dan value hasil yang didapatkan dari mencari data dari value = duration_table[rows_index][cols_index]\n",
        "        pair_values[tuple(pair)] = value\n",
        "\n",
        "        # untuk dapat mencari jumlah total waktu dari langkah 'ABCDEBE'\n",
        "        # dilakukan append nilai output dari table duration_table kedalam list values\n",
        "        values.append(value)\n",
        "\n",
        "    # lalu dilakukan sum/fungsi mencari nilai total dari data yang didapat\n",
        "    total_time = sum(values)\n",
        "\n",
        "    return total_time\n",
        "\n",
        "    # print(type(total_time))\n"
      ]
    },
    {
      "cell_type": "markdown",
      "metadata": {
        "id": "FktMhd47ni_y"
      },
      "source": [
        "Check function"
      ]
    },
    {
      "cell_type": "code",
      "execution_count": 12,
      "metadata": {
        "colab": {
          "base_uri": "https://localhost:8080/"
        },
        "id": "tJX-kYnMnhkz",
        "outputId": "fbea8da7-7131-477f-9ca3-562bac121bf5"
      },
      "outputs": [
        {
          "name": "stdout",
          "output_type": "stream",
          "text": [
            "39\n"
          ]
        }
      ],
      "source": [
        "# DO NOT CHANGE ANYTHING IN THIS CELL\n",
        "# Just run after you finish the function\n",
        "route = 'ABCDEBE'\n",
        "\n",
        "total_time = calculate_duration(route, duration_table)\n",
        "print(total_time)"
      ]
    }
  ],
  "metadata": {
    "colab": {
      "collapsed_sections": [
        "mHn4dahHthcr",
        "8rJAViFqu2Mp",
        "iitkUoYjxxZ_",
        "9TLIqzWW59NH",
        "M5K-F970XVAn",
        "zSIPgPCNpTvP",
        "EAfzCwRWbEKo",
        "8nLTA3CZkOwn"
      ],
      "provenance": []
    },
    "kernelspec": {
      "display_name": "Python 3",
      "name": "python3"
    },
    "language_info": {
      "codemirror_mode": {
        "name": "ipython",
        "version": 3
      },
      "file_extension": ".py",
      "mimetype": "text/x-python",
      "name": "python",
      "nbconvert_exporter": "python",
      "pygments_lexer": "ipython3",
      "version": "3.7.3"
    }
  },
  "nbformat": 4,
  "nbformat_minor": 0
}
