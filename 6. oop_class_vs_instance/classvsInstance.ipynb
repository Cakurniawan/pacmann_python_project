{
 "cells": [
  {
   "cell_type": "markdown",
   "metadata": {},
   "source": [
    "# **Pertemuan 9 - Object Oriented Programming I**\n",
    "\n",
    "Python - Sekolah Data - Pacmann Academy"
   ]
  },
  {
   "cell_type": "markdown",
   "metadata": {},
   "source": [
    "---\n",
    "## Atribut Class vs Atribut Instance"
   ]
  },
  {
   "cell_type": "markdown",
   "metadata": {},
   "source": [
    "- Kalau teman - teman ingat di materi sebelumnya kita sudah membahas tentang tentang Attribute\n",
    "- Attribut yang didefinisikan di dalam method `__init__()` biasa disebut **atribute instace**. \n",
    "- Hal ini disebabkan nilai dari atribut tersebut akan **berbeda antara satu instance dengan instance lainnya**."
   ]
  },
  {
   "cell_type": "code",
   "execution_count": 2,
   "metadata": {},
   "outputs": [],
   "source": [
    "class Segitiga:\n",
    "    def __init__(self,alas,tinggi,tipe):\n",
    "        self.alas = alas\n",
    "        self.tinggi = tinggi\n",
    "        self.tipe = tipe\n",
    "        self.luas = 0.5 * alas * tinggi"
   ]
  },
  {
   "cell_type": "code",
   "execution_count": 3,
   "metadata": {},
   "outputs": [
    {
     "name": "stdout",
     "output_type": "stream",
     "text": [
      "0.5 2.0\n"
     ]
    }
   ],
   "source": [
    "instance_1 = Segitiga(1,1,\"siku\")\n",
    "instance_2 = Segitiga(2,2,\"siku\")\n",
    "\n",
    "print(instance_1.luas, instance_2.luas)"
   ]
  },
  {
   "cell_type": "markdown",
   "metadata": {},
   "source": [
    "- Nah, bagaimana kalau semisal aku ingin membuat `class` yang memiliki attribute yang sama nanti di semua instance nya??\n",
    "- Kita bisa membuat namanya **atribut kelas**, yait attribute yang **memiliki nilainya sama pada semua** instance kelas yang kita buat\n",
    "\n",
    "<img src=\"https://drive.google.com/uc?export=view&id=1-M5G_MBrEaWo7v9xhaM0s8PzBJxc_FDS\" alt=\"Drawing\" width= 600px;/>\n",
    "\n",
    "<small>[Source](https://drive.google.com/file/d/1-M5G_MBrEaWo7v9xhaM0s8PzBJxc_FDS/view?usp=sharing)</small>"
   ]
  },
  {
   "cell_type": "code",
   "execution_count": 1,
   "metadata": {},
   "outputs": [],
   "source": [
    "class Lingkaran:\n",
    "    atribut_kelas = 99\n",
    "\n",
    "    def __init__(self,radius):\n",
    "        self.radius = radius\n",
    "        self.luas = 3.14 * radius * radius"
   ]
  },
  {
   "cell_type": "code",
   "execution_count": 2,
   "metadata": {},
   "outputs": [],
   "source": [
    "instance_lingkaran_1 = Lingkaran(7)\n",
    "instance_lingkaran_2 = Lingkaran(3)"
   ]
  },
  {
   "cell_type": "markdown",
   "metadata": {},
   "source": [
    "Sama seperti sebelumnya, kita juga bisa mengakses attribute nilai `class`. Tetapi perbedaannya terdapat dua cara untuk mengaksesnya\n",
    "\n",
    "- Cara pertama menambahkan `.` diikuti nama atribut kelas pada variabel instance "
   ]
  },
  {
   "cell_type": "code",
   "execution_count": 3,
   "metadata": {},
   "outputs": [
    {
     "data": {
      "text/plain": [
       "99"
      ]
     },
     "execution_count": 3,
     "metadata": {},
     "output_type": "execute_result"
    }
   ],
   "source": [
    "instance_lingkaran_1.atribut_kelas"
   ]
  },
  {
   "cell_type": "code",
   "execution_count": 7,
   "metadata": {},
   "outputs": [
    {
     "data": {
      "text/plain": [
       "99"
      ]
     },
     "execution_count": 7,
     "metadata": {},
     "output_type": "execute_result"
    }
   ],
   "source": [
    "instance_lingkaran_2.atribut_kelas"
   ]
  },
  {
   "cell_type": "markdown",
   "metadata": {},
   "source": [
    "- Cara kedua menambahkan `.` diikuti nama atribut kelas pada nama `class`"
   ]
  },
  {
   "cell_type": "code",
   "execution_count": 8,
   "metadata": {},
   "outputs": [
    {
     "data": {
      "text/plain": [
       "99"
      ]
     },
     "execution_count": 8,
     "metadata": {},
     "output_type": "execute_result"
    }
   ],
   "source": [
    "Lingkaran.atribut_kelas"
   ]
  },
  {
   "cell_type": "markdown",
   "metadata": {},
   "source": [
    "* Atribut kelas dapat berubah menjadi atribut instance. \n",
    "* Hal ini terjadi ketika kita mengubah nilai dari atribut kelas melalui variable instance."
   ]
  },
  {
   "cell_type": "code",
   "execution_count": 9,
   "metadata": {},
   "outputs": [
    {
     "name": "stdout",
     "output_type": "stream",
     "text": [
      "5\n",
      "28\n",
      "28\n"
     ]
    }
   ],
   "source": [
    "# bermutasi menjadi atribut instance, memiliki nilai sendiri\n",
    "instance_lingkaran_1.atribut_kelas = 5    \n",
    "\n",
    "# nilai baru diupdate pada semua objek yang masih memiliki atribut kelas ini\n",
    "Lingkaran.atribut_kelas = 28  \n",
    "\n",
    "print(instance_lingkaran_1.atribut_kelas)\n",
    "print(instance_lingkaran_2.atribut_kelas)\n",
    "print(Lingkaran.atribut_kelas)"
   ]
  },
  {
   "cell_type": "markdown",
   "metadata": {},
   "source": [
    "---\n",
    "**Mini exercise**\n",
    "- Buatlah kelas `Kucing` yang terdapat attribut kelas berupa `jenis = \"mamalia\"`, `kaki = 4`, dan `suara = \"meow\"`\n",
    "- Lalu, kelas kucing memiliki attribute instance berupa nama, umur, ras, dan warna\n",
    "- Buatlah instance dari dari kelas `Kucing` tersbut dan coba tampilkan attribute kelas berupa suara dan attribute instance berupa nama"
   ]
  },
  {
   "cell_type": "code",
   "execution_count": 15,
   "metadata": {},
   "outputs": [
    {
     "data": {
      "text/plain": [
       "'Putih'"
      ]
     },
     "execution_count": 15,
     "metadata": {},
     "output_type": "execute_result"
    }
   ],
   "source": [
    "# buatlah class Kucing sesuai dengan perintah di atas\n",
    "# isilah titik - titik di bawah ini\n",
    "\n",
    "class Kucing:\n",
    "    jenis = \"mamalia\"\n",
    "    kaki = 4\n",
    "    suara = \"meow\"\n",
    "\n",
    "    def __init__(self, nama, umur, ras, warna):\n",
    "        self.nama = nama\n",
    "        self.umur = umur\n",
    "        self.ras = ras\n",
    "        self.warna = warna\n",
    "        \n",
    "instance_kucing_1 = Kucing(\"yoiko\", 32, \"Padang\", \"Putih\")\n",
    "instance_kucing_1.warna"
   ]
  },
  {
   "cell_type": "code",
   "execution_count": 16,
   "metadata": {},
   "outputs": [
    {
     "name": "stdout",
     "output_type": "stream",
     "text": [
      "meow\n",
      "Putih\n"
     ]
    }
   ],
   "source": [
    "print(Kucing.suara)\n",
    "print(instance_kucing_1.warna)"
   ]
  }
 ],
 "metadata": {
  "kernelspec": {
   "display_name": "base",
   "language": "python",
   "name": "python3"
  },
  "language_info": {
   "codemirror_mode": {
    "name": "ipython",
    "version": 3
   },
   "file_extension": ".py",
   "mimetype": "text/x-python",
   "name": "python",
   "nbconvert_exporter": "python",
   "pygments_lexer": "ipython3",
   "version": "3.7.3"
  },
  "orig_nbformat": 4
 },
 "nbformat": 4,
 "nbformat_minor": 2
}
